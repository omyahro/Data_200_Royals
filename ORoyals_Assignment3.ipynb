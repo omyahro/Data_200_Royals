{
  "nbformat": 4,
  "nbformat_minor": 0,
  "metadata": {
    "colab": {
      "provenance": [],
      "authorship_tag": "ABX9TyMwO5wM7FO8I/o/ovdkSc6D",
      "include_colab_link": true
    },
    "kernelspec": {
      "name": "python3",
      "display_name": "Python 3"
    },
    "language_info": {
      "name": "python"
    }
  },
  "cells": [
    {
      "cell_type": "markdown",
      "metadata": {
        "id": "view-in-github",
        "colab_type": "text"
      },
      "source": [
        "<a href=\"https://colab.research.google.com/github/omyahro/Data_200_Royals/blob/main/ORoyals_Assignment3.ipynb\" target=\"_parent\"><img src=\"https://colab.research.google.com/assets/colab-badge.svg\" alt=\"Open In Colab\"/></a>"
      ]
    },
    {
      "cell_type": "markdown",
      "source": [
        "# **Data Definition:**\n",
        "\n",
        "The Food Access Research Atlas provides a geographic analysis of food accessibility in low-income and other census tracts using various measures of supermarket proximity. It includes data on food access for populations within these tracts and offers census-tract-level information that can be used for research or community planning.\n",
        "\n",
        "\n",
        "https://catalog.data.gov/dataset/food-access-research-atlas\n"
      ],
      "metadata": {
        "id": "mLNkNZek1b6Y"
      }
    },
    {
      "cell_type": "code",
      "source": [
        "pip install sqlite-database"
      ],
      "metadata": {
        "colab": {
          "base_uri": "https://localhost:8080/"
        },
        "id": "PW_IO0Ka-xm-",
        "outputId": "a93a3add-ec25-4aba-e17a-b84275274eba"
      },
      "execution_count": 3,
      "outputs": [
        {
          "output_type": "stream",
          "name": "stdout",
          "text": [
            "Requirement already satisfied: sqlite-database in /usr/local/lib/python3.11/dist-packages (0.7.2)\n"
          ]
        }
      ]
    },
    {
      "cell_type": "code",
      "source": [
        "# Import the libraries\n",
        "import sqlite3\n",
        "import csv\n",
        "import numpy as np\n",
        "import pandas as pd\n",
        "import matplotlib.pyplot as plt"
      ],
      "metadata": {
        "id": "2rzP2ZxT-t1E"
      },
      "execution_count": 27,
      "outputs": []
    },
    {
      "cell_type": "code",
      "source": [
        "# 1. Load dataset (uploaded file path)\n",
        "from google.colab import drive\n",
        "\n",
        "# Mount Google Drive\n",
        "drive.mount('/content/drive')\n",
        "\n",
        "# Define the file path\n",
        "file_path = \"/content/drive/My Drive/Food_Access_Research_Atlas.csv\"\n",
        "\n",
        "# Read the Excel file\n",
        "food_access = pd.read_csv(file_path)\n",
        "df = pd.read_csv(file_path)"
      ],
      "metadata": {
        "colab": {
          "base_uri": "https://localhost:8080/"
        },
        "id": "aUyva4bN-u_u",
        "outputId": "ed41903b-48c9-43f8-ec04-cc6d0c8d1076"
      },
      "execution_count": 5,
      "outputs": [
        {
          "output_type": "stream",
          "name": "stdout",
          "text": [
            "Mounted at /content/drive\n"
          ]
        }
      ]
    },
    {
      "cell_type": "code",
      "source": [
        "\n",
        "conn = sqlite3.connect('food_access.db')  # or use full path if needed\n",
        "cur = conn.cursor()\n"
      ],
      "metadata": {
        "id": "LKQ0N6gZRllc"
      },
      "execution_count": 6,
      "outputs": []
    },
    {
      "cell_type": "code",
      "source": [
        "conn = sqlite3.connect('/content/drive/My Drive/food_access.db')\n",
        "df.to_sql('food_access', conn, if_exists='replace', index=False)"
      ],
      "metadata": {
        "colab": {
          "base_uri": "https://localhost:8080/"
        },
        "id": "3ALdt6ps_Co4",
        "outputId": "e5c07459-3339-47ec-e5c3-1ed9f0105eb0"
      },
      "execution_count": 7,
      "outputs": [
        {
          "output_type": "execute_result",
          "data": {
            "text/plain": [
              "72531"
            ]
          },
          "metadata": {},
          "execution_count": 7
        }
      ]
    },
    {
      "cell_type": "code",
      "source": [
        "# Create a cursor to interact with the database.\n",
        "#cur.execute('DROP TABLE Athletes')"
      ],
      "metadata": {
        "id": "RZs_jASyaJaS"
      },
      "execution_count": 10,
      "outputs": []
    },
    {
      "cell_type": "code",
      "source": [
        "# First table\n",
        "cur.execute('''CREATE TABLE IF NOT EXISTS Athletes (\n",
        "    athlete_id INTEGER PRIMARY KEY,\n",
        "    name TEXT,\n",
        "    sport TEXT,\n",
        "    country TEXT\n",
        ")''')\n",
        "\n",
        "conn.commit()"
      ],
      "metadata": {
        "id": "_awM0MYLTTfs"
      },
      "execution_count": 12,
      "outputs": []
    },
    {
      "cell_type": "code",
      "source": [
        "# Second table\n",
        "cur.execute('''CREATE TABLE IF NOT EXISTS Medals (\n",
        "    medal_id INTEGER PRIMARY KEY,\n",
        "    athlete_id INTEGER,\n",
        "    olympic_medals INTEGER,\n",
        "    FOREIGN KEY (athlete_id) REFERENCES Athletes(athlete_id)\n",
        ")''')\n",
        "conn.commit()"
      ],
      "metadata": {
        "id": "BaO_KNxDhxmt"
      },
      "execution_count": 13,
      "outputs": []
    },
    {
      "cell_type": "code",
      "source": [
        "cur.execute(\"INSERT INTO Athletes VALUES (1, 'Simone Biles', 'Gymnastics', 'USA')\")\n",
        "cur.execute(\"INSERT INTO Athletes VALUES (2, 'Usain Bolt', 'Track & Field', 'Jamaica')\")\n",
        "\n",
        "conn.commit()"
      ],
      "metadata": {
        "id": "Xeq_wxQzXpxd"
      },
      "execution_count": 15,
      "outputs": []
    },
    {
      "cell_type": "code",
      "source": [
        "cur.execute(\"INSERT INTO Medals VALUES (1, 1, 7)\")\n",
        "cur.execute(\"INSERT INTO Medals VALUES (2, 2, 8)\")\n",
        "conn.commit()"
      ],
      "metadata": {
        "id": "LA_94US7ipIb"
      },
      "execution_count": 16,
      "outputs": []
    },
    {
      "cell_type": "code",
      "source": [
        "# JOIN tables\n",
        "cur.execute('''SELECT name, sport, olympic_medals\n",
        "FROM Athletes JOIN Medals ON Athletes.athlete_id = Medals.athlete_id''')\n",
        "\n",
        "cur.fetchall()\n"
      ],
      "metadata": {
        "colab": {
          "base_uri": "https://localhost:8080/"
        },
        "id": "C5Gz-Xq0iu8i",
        "outputId": "4677e25e-924d-48f2-f348-8b8cdfdc0ea6"
      },
      "execution_count": 24,
      "outputs": [
        {
          "output_type": "execute_result",
          "data": {
            "text/plain": [
              "[('Simone Biles', 'Gymnastics', 7),\n",
              " ('Usain Bolt', 'Track & Field', 8),\n",
              " ('Wilma Rudolph', 'Track & Field', 3)]"
            ]
          },
          "metadata": {},
          "execution_count": 24
        }
      ]
    },
    {
      "cell_type": "code",
      "source": [
        "cur.execute(\"SELECT * FROM Athletes WHERE sport = 'Track & Field'\")\n",
        "cur.fetchall()"
      ],
      "metadata": {
        "colab": {
          "base_uri": "https://localhost:8080/"
        },
        "id": "Iv3tHjMRjkBg",
        "outputId": "f0465f91-0c35-4b55-a0c0-c6d83c33e13f"
      },
      "execution_count": 19,
      "outputs": [
        {
          "output_type": "execute_result",
          "data": {
            "text/plain": [
              "[(2, 'Usain Bolt', 'Track & Field', 'Jamaica')]"
            ]
          },
          "metadata": {},
          "execution_count": 19
        }
      ]
    },
    {
      "cell_type": "code",
      "source": [
        "#Athletes with more than 6 medals\n",
        "cur.execute('''SELECT name, olympic_medals\n",
        "FROM Athletes JOIN Medals ON Athletes.athlete_id = Medals.athlete_id\n",
        "WHERE olympic_medals > 6''')\n",
        "\n",
        "cur.fetchall()"
      ],
      "metadata": {
        "colab": {
          "base_uri": "https://localhost:8080/"
        },
        "id": "9JXRYmgVjkwp",
        "outputId": "92bb2533-9fab-4a5a-921c-363fbd2c6120"
      },
      "execution_count": 20,
      "outputs": [
        {
          "output_type": "execute_result",
          "data": {
            "text/plain": [
              "[('Simone Biles', 7), ('Usain Bolt', 8)]"
            ]
          },
          "metadata": {},
          "execution_count": 20
        }
      ]
    },
    {
      "cell_type": "code",
      "source": [
        "# Delete rows with NULLs\n",
        "cur.execute(\"DELETE FROM Athletes WHERE name IS NULL OR sport IS NULL\")\n",
        "cur.execute(\"DELETE FROM Medals WHERE olympic_medals IS NULL\")\n",
        "conn.commit()\n"
      ],
      "metadata": {
        "id": "nE5bH3EPjlIY"
      },
      "execution_count": 21,
      "outputs": []
    },
    {
      "cell_type": "code",
      "source": [
        "# Adding new row\n",
        "cur.execute(\"INSERT INTO Athletes VALUES (3, 'Wilma Rudolph', 'Track & Field', 'USA')\")\n",
        "cur.execute(\"INSERT INTO Medals VALUES (3, 3, 3)\")\n",
        "conn.commit()\n"
      ],
      "metadata": {
        "id": "l5Cq7x_Gjl3x"
      },
      "execution_count": 22,
      "outputs": []
    },
    {
      "cell_type": "code",
      "source": [
        "cur.execute(\"SELECT * FROM Athletes\")\n",
        "cur.fetchall()"
      ],
      "metadata": {
        "colab": {
          "base_uri": "https://localhost:8080/"
        },
        "id": "CesqL0XqjukW",
        "outputId": "16e57fff-df4b-4eae-e0ca-8eab294bef9e"
      },
      "execution_count": 23,
      "outputs": [
        {
          "output_type": "execute_result",
          "data": {
            "text/plain": [
              "[(1, 'Simone Biles', 'Gymnastics', 'USA'),\n",
              " (2, 'Usain Bolt', 'Track & Field', 'Jamaica'),\n",
              " (3, 'Wilma Rudolph', 'Track & Field', 'USA')]"
            ]
          },
          "metadata": {},
          "execution_count": 23
        }
      ]
    },
    {
      "cell_type": "code",
      "source": [
        "cur.execute('''\n",
        "SELECT Athletes.name, Medals.olympic_medals\n",
        "FROM Athletes\n",
        "JOIN Medals ON Athletes.athlete_id = Medals.athlete_id\n",
        "''')\n",
        "data = cur.fetchall()\n",
        "\n",
        "names = []\n",
        "medals = []\n",
        "\n",
        "for row in data:\n",
        "    names.append(row[0])\n",
        "    medals.append(row[1])\n",
        "\n",
        "# Visualization\n",
        "plt.bar(names, medals)\n",
        "plt.title('Olympic Medals by Athlete')\n",
        "plt.ylabel('Medals')\n",
        "plt.xticks(rotation=45)\n",
        "plt.tight_layout()\n",
        "plt.show()\n",
        "\n",
        "conn.close()"
      ],
      "metadata": {
        "colab": {
          "base_uri": "https://localhost:8080/",
          "height": 487
        },
        "id": "LOGT84w4ju7w",
        "outputId": "2889c1d3-bb6e-4ace-c401-a3f523a474a2"
      },
      "execution_count": 28,
      "outputs": [
        {
          "output_type": "display_data",
          "data": {
            "text/plain": [
              "<Figure size 640x480 with 1 Axes>"
            ],
            "image/png": "[encoded data removed]"
          },
          "metadata": {}
        }
      ]
    }
  ]
}