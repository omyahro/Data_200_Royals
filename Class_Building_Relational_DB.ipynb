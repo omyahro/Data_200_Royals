{
  "cells": [
    {
      "cell_type": "markdown",
      "metadata": {
        "id": "view-in-github",
        "colab_type": "text"
      },
      "source": [
        "<a href=\"https://colab.research.google.com/github/omyahro/Data_200_Royals/blob/main/Class_Building_Relational_DB.ipynb\" target=\"_parent\"><img src=\"https://colab.research.google.com/assets/colab-badge.svg\" alt=\"Open In Colab\"/></a>"
      ]
    },
    {
      "cell_type": "markdown",
      "id": "9d858afe-64ba-4e20-9945-7495976abfce",
      "metadata": {
        "id": "9d858afe-64ba-4e20-9945-7495976abfce"
      },
      "source": [
        "# Building Databases with SQL in Python\n",
        "We will begin with a csv file, recall this is a collection of data with each value separated by commas. The data can be many rows long and each row is a **record**. Each column in the data represents a **field** in a database. The underlying structure for a database is present in the csv or xlsx file."
      ]
    },
    {
      "cell_type": "markdown",
      "id": "231f7ed3-bf43-4064-8e34-b36f3c3af3dc",
      "metadata": {
        "id": "231f7ed3-bf43-4064-8e34-b36f3c3af3dc"
      },
      "source": [
        "## Importing the Libraries\n",
        "To create a database in Python, we will introduce a new library, SQLite3. As this is your first use of this library, we need to use the `pip install sqlite-database` method to install the library and then import it for use. We will use a Python dependency library, csv, to handle the I/O tools for comma-separated value files.\n",
        "\n",
        "SQLite is a C library that provides a lightweight disk-based database that doesn’t require a separate server process and allows accessing the database using a nonstandard variant of the SQL query language. https://www.sqlite.org/about.html"
      ]
    },
    {
      "cell_type": "code",
      "execution_count": 3,
      "id": "e48d1de8-633d-4e9e-b414-5c04668f6a51",
      "metadata": {
        "colab": {
          "base_uri": "https://localhost:8080/"
        },
        "id": "e48d1de8-633d-4e9e-b414-5c04668f6a51",
        "outputId": "11f69a39-3ac9-48c6-c290-55361527a6cb"
      },
      "outputs": [
        {
          "output_type": "stream",
          "name": "stdout",
          "text": [
            "Collecting sqlite-database\n",
            "  Downloading sqlite_database-0.7.2-py3-none-any.whl.metadata (4.2 kB)\n",
            "Downloading sqlite_database-0.7.2-py3-none-any.whl (36 kB)\n",
            "Installing collected packages: sqlite-database\n",
            "Successfully installed sqlite-database-0.7.2\n"
          ]
        }
      ],
      "source": [
        "pip install sqlite-database"
      ]
    },
    {
      "cell_type": "code",
      "execution_count": 2,
      "id": "65483680-3e84-416d-b517-dab63e8d5546",
      "metadata": {
        "id": "65483680-3e84-416d-b517-dab63e8d5546"
      },
      "outputs": [],
      "source": [
        "# Import the libraries\n",
        "import sqlite3\n",
        "import csv\n",
        "import numpy as np\n",
        "import pandas as pd"
      ]
    },
    {
      "cell_type": "markdown",
      "id": "1786bffe-d786-463c-b489-ec1bcafa98d5",
      "metadata": {
        "id": "1786bffe-d786-463c-b489-ec1bcafa98d5"
      },
      "source": [
        "## Establishing a Connection\n",
        "The first step in database creation is to establish a connection to the data and the cursor that will allow you to navigate the database and run commands. When connecting to a database, you can enter the name of an existing database or designate a filename to create a new database.\n",
        "\n",
        "Syntax: `sqlite3.connect(database, timeout=5.0,\n",
        "detect_types=0, isolation_level='DEFERRED',\n",
        "check_same_thread=True, factory=sqlite3.Connection,\n",
        "cached_statements=128, uri=False, *,\n",
        "autocommit=sqlite3.LEGACY_TRANSACTION_CONTROL)`\n",
        "\n",
        "We simplify the full syntax to include the name of the database. The additional parameters and a detailed explanation on when to use them is located here: https://docs.python.org/3/library/sqlite3.html#sqlite3-reference"
      ]
    },
    {
      "cell_type": "code",
      "execution_count": 4,
      "id": "ba8b0183-94e4-4d5d-b36a-cd747804bbe3",
      "metadata": {
        "id": "ba8b0183-94e4-4d5d-b36a-cd747804bbe3"
      },
      "outputs": [],
      "source": [
        "# Create a connection\n",
        "# Syntax: conn = sqlite3.connect('databaseName.sqlite')\n",
        "conn = sqlite3.connect('energyindicators.sqlite')\n",
        "\n",
        "# Create a cursor object to navigate\n",
        "cur = conn.cursor()"
      ]
    },
    {
      "cell_type": "markdown",
      "id": "9da9046b-4d36-4b3a-a73d-6bb07cc2a864",
      "metadata": {
        "id": "9da9046b-4d36-4b3a-a73d-6bb07cc2a864"
      },
      "source": [
        "# SQL Basics"
      ]
    },
    {
      "cell_type": "markdown",
      "id": "20abba13-e8d7-49e5-a2b8-d7c78af9ee84",
      "metadata": {
        "id": "20abba13-e8d7-49e5-a2b8-d7c78af9ee84"
      },
      "source": [
        "## Creating Tables\n",
        "The database is comprised of tables that add structure and store the data. The next step is to create a table that holds the data we would like to use from the CSV file. The data in the CSV may have a first row that designates the names of the fields, or it may consist of just the data without column headers. The field names are defined using a `CREATE TABLE` method to synchronize the fields with the column names.\n",
        "\n",
        "When creating the table fields, the field's data type must be designated. In Python, we have string; in SQL, we have TEXT.\n",
        "\n",
        "The following Python types can thus be sent to SQLite without any problem:\n",
        "<table>\n",
        "  <thead>\n",
        "    <tr>\n",
        "      <th>Python type</th>\n",
        "      <th>SQLite type</th>\n",
        "    </tr>\n",
        "  </thead>\n",
        "  <tbody>\n",
        "    <tr>\n",
        "      <td>None</td>\n",
        "      <td>NULL</td>\n",
        "    </tr>\n",
        "    <tr>\n",
        "      <td>int</td>\n",
        "      <td>INTEGER</td>\n",
        "    </tr>\n",
        "    <tr>\n",
        "      <td>float</td>\n",
        "      <td>REAL</td>\n",
        "    </tr>\n",
        "    <tr>\n",
        "      <td>str</td>\n",
        "      <td>TEXT</td>\n",
        "    </tr>\n",
        "    <tr>\n",
        "      <td>bytes</td>\n",
        "      <td>BLOB</td>\n",
        "    </tr>\n",
        "  </tbody>\n",
        "</table>\n",
        "\n",
        "You can also create a dictionary in Python and pass this to the `CREATE TABLE` method to include the field names for the table.\n",
        "\n",
        "Example:<br>\n",
        "\n",
        "       CREATE TABLE students(\n",
        "       name TEXT,\n",
        "       age INTEGER,\n",
        "       grade INTEGER\n",
        "       );"
      ]
    },
    {
      "cell_type": "code",
      "execution_count": 20,
      "id": "c077c060-8367-4ef4-9986-73534157c57b",
      "metadata": {
        "colab": {
          "base_uri": "https://localhost:8080/"
        },
        "id": "c077c060-8367-4ef4-9986-73534157c57b",
        "outputId": "78ac754f-f504-4bc0-a198-35b14425afde"
      },
      "outputs": [
        {
          "output_type": "execute_result",
          "data": {
            "text/plain": [
              "<sqlite3.Cursor at 0x791143166340>"
            ]
          },
          "metadata": {},
          "execution_count": 20
        }
      ],
      "source": [
        "# Create a cursor to interact with the database.\n",
        "cur.execute('''DROP TABLE graduates''')"
      ]
    },
    {
      "cell_type": "code",
      "execution_count": 7,
      "id": "229fbb05-1a1f-4119-8b22-444f5bb1023a",
      "metadata": {
        "colab": {
          "base_uri": "https://localhost:8080/"
        },
        "id": "229fbb05-1a1f-4119-8b22-444f5bb1023a",
        "outputId": "e51287d4-0a00-45f8-80f9-a4e442fec566"
      },
      "outputs": [
        {
          "output_type": "execute_result",
          "data": {
            "text/plain": [
              "<sqlite3.Cursor at 0x791143166340>"
            ]
          },
          "metadata": {},
          "execution_count": 7
        }
      ],
      "source": [
        "# Create a new table named students\n",
        "# Table fields will be name, graduation year, and school\n",
        "cur.execute('''\n",
        "CREATE TABLE graduates(\n",
        "    id INTEGER PRIMARY KEY AUTOINCREMENT,\n",
        "    name TEXT,\n",
        "    graduated INTEGER,\n",
        "    school TEXT\n",
        "   )\n",
        "   ''')"
      ]
    },
    {
      "cell_type": "markdown",
      "id": "94a0f548-8828-42e4-8dd0-4c46bfe15b0e",
      "metadata": {
        "id": "94a0f548-8828-42e4-8dd0-4c46bfe15b0e"
      },
      "source": [
        "## Inserting Data Into Tables\n",
        "The tables consist of records, these are the data points that make up each row of the DataFrame. The records is a single entry into the table as a horizonal row of data. The record contains data that is matched to the field in the table. Recall that the fields in the table are similar to the columns in the dataframe. The columm names were designated when the table was created. In our example above this includes a unique id field that automatically numbers (think indexing in Python) each incoming record. The remaining fields are the names of our variables. Adding data to the table uses the `INSERT INTO` statement. The syntax includes the name of the table where the data should be inserted and the corresponding field (column) names for each data point.\n",
        "\n",
        "`INSERT INTO`: This command is used to insert new data into a table. <br>\n",
        "Example:<br>\n",
        "\n",
        "        INSERT INTO students (name, age, grade)\n",
        "        VALUES (\"John Doe\", 20, 12);\n",
        "\n",
        "If data is added to each field of the table the field names do not need to be declared. However, it is best practice to list the column names so that when there are null values for a field the value is skipped accordingly."
      ]
    },
    {
      "cell_type": "markdown",
      "id": "94314bf9-699d-46ae-aa14-78c4f00aeb5d",
      "metadata": {
        "id": "94314bf9-699d-46ae-aa14-78c4f00aeb5d"
      },
      "source": [
        "Our list of students includes just a few of the essential students who shaped Black History. This list is by no means comprehensive, so we will have the opportunity to add to it in class.\n",
        "\n",
        "<table>\n",
        "    <thead>\n",
        "        <tr>\n",
        "            <th>Student Name</th>\n",
        "            <th>Graduation Year</th>\n",
        "            <th>School</th>\n",
        "            <th>Personal Description</th>\n",
        "        </tr>\n",
        "    </thead>\n",
        "    <tbody>\n",
        "    <tr>\n",
        "        <td>Shirley Chisholm</td>\n",
        "        <td>1951</td>\n",
        "        <td>Columbia University</td>\n",
        "        <td>The first African American woman to serve in Congress and run for president.</td>\n",
        "    </tr>\n",
        "    <tr>\n",
        "        <td>Kimberlé Crenshaw</td>\n",
        "        <td>1989</td>\n",
        "        <td>Columbia University</td>\n",
        "        <td>The Columbia Law Professor who coined the term \"intersectionality\".</td>\n",
        "    </tr>\n",
        "    <tr>\n",
        "        <td>Barack Obama</td>\n",
        "        <td>1983</td>\n",
        "        <td>Columbia University</td>\n",
        "        <td>The first African American president of the United States, who studied political science and international relations at Columbia.</td>\n",
        "    </tr>\n",
        "    <tr>\n",
        "        <td>Mae Jemison</td>\n",
        "        <td>1981</td>\n",
        "        <td>Cornell University School of Medicine</td>\n",
        "        <td>The first African American woman to orbit into space, and also a physician, teacher, and Peace Corps volunteer.</td>\n",
        "    </tr>\n",
        "    <tr>\n",
        "        <td>Bessie Coleman</td>\n",
        "        <td>NULL</td>\n",
        "        <td>Langston Industrial College</td>\n",
        "        <td>The only Black student and woman in her flying class, who was the first Black Female pilot.</td>\n",
        "    </tr>\n",
        "    <tr>\n",
        "        <td>Langston Hughes</td>\n",
        "        <td>1929</td>\n",
        "        <td>Lincoln University</td>\n",
        "        <td>A major poet, novelist, short story writer, essayist, and playwright who was a central figure in the Harlem Renaissance.</td>\n",
        "    </tr>\n",
        "    <tr>\n",
        "        <td>Maya Angelou</td>\n",
        "        <td>1944</td>\n",
        "        <td>Mission High School</td>\n",
        "        <td>A civil rights activist who worked for Dr. Martin Luther King Jr. and Malcolm X was a singer, dancer, actress, composer, and Hollywood's first female Black director.</td>\n",
        "    </tr>\n",
        "    <tr>\n",
        "        <td>Zora Neale Hurston</td>\n",
        "        <td>1928</td>\n",
        "        <td>Columbia University</td>\n",
        "        <td>The first Black student to attend Barnard College, where she studied anthropology with Franz Boas.</td>\n",
        "    </tr>\n",
        "    <tr>\n",
        "        <td>Claudette Colvin</td>\n",
        "        <td>NULL</td>\n",
        "        <td>Booker T Washington High School</td>\n",
        "        <td>A 15-year-old Black student in Montgomery, Alabama, in 1955 who refused to give up her seat on a segregated bus.</td>\n",
        "    </tr>\n",
        "    <tr>\n",
        "        <td>Martin Luther King Jr.</td>\n",
        "        <td>1948</td>\n",
        "        <td>Morehouse College</td>\n",
        "        <td>Activist and influential student who was elected president of his class in his final year of college.</td>\n",
        "    </tr>\n",
        "    <tr>\n",
        "        <td>Ruby Bridges</td>\n",
        "        <td>NULL</td>\n",
        "        <td>Kansas City Business School</td>\n",
        "        <td>The first African American child to attend a predominantly white elementary school in 1960 New Orleans, Louisiana.</td>\n",
        "    </tr>\n",
        "\n",
        "Here are a few more HBCU graduates to add to the table. <br>\n",
        "Fmr. Vice President Kamala Harris (Howard University, 1986), Langston Hughes (Lincoln University, 1929), Samuel L. Jackson (Morehouse College, 1972), Lionel Richie, (Tuskegee University, 1974) and Oprah Winfrey (Tennessee State University, 1986), Katherine Johnson (West Virginia State University, 1937), George Alcorn (Howard University, 1963, 1967), Reverend Jesse Jackson (North Carolina A&T State University, 1964), W.E.B. Du Bois (Fisk University, 1888), Janice Bryant Howroyd (North Carolina A&T State University), Earl G. Graves Sr. (Morgan State University, 1958), Bob Hayes (Florida A&M University, 1964), Althea Gibson (Florida A&M University, 1953), Spike Lee (Morehouse College, 1979), Ret. Chief Justice Henry Frye(North Carolina A&T State University, 1953), Dr. Ronald E McNair (North Carolina A&T State University, 1971)."
      ]
    },
    {
      "cell_type": "code",
      "execution_count": 8,
      "id": "aeac699e-7de0-435a-aba8-1eadccfba2eb",
      "metadata": {
        "id": "aeac699e-7de0-435a-aba8-1eadccfba2eb"
      },
      "outputs": [],
      "source": [
        "# Let's insert a record into the table\n",
        "cur.execute('''\n",
        "INSERT INTO graduates (name, graduated, school) VALUES ('Shirley Chisholm', 1951, 'Columbia University')''')\n",
        "conn.commit()"
      ]
    },
    {
      "cell_type": "code",
      "execution_count": 9,
      "id": "75daeb2e-0fac-458b-b4f3-84f2aae63daa",
      "metadata": {
        "id": "75daeb2e-0fac-458b-b4f3-84f2aae63daa"
      },
      "outputs": [],
      "source": [
        "# Let's import more than one data into the table\n",
        "# Start with a list for the data\n",
        "data = [('Kimberle Crenshaw', 1989, 'Columbia University'),\n",
        "        ('Barack Obama', 1983, 'Columbia University'),\n",
        "        ('Mae Jemison', 1981, 'Cornell University School of Medicine'),\n",
        "        ('Bessie Coleman','NULL' ,'Langston Industrial College'),\n",
        "        ('Langston Hughes', 1929, 'Lincoln University'),\n",
        "        ('Maya Angelou', 1944, 'Mission High School'),\n",
        "        ('Zora Neale Hurston', 1928, 'Columbia University'),\n",
        "        ('Claudette Colvin','NULL' , 'Booker T Washington High School'),\n",
        "        ('Martin Luther King Jr', 1948, 'Morehouse College'),\n",
        "        ('Audre Lorde', 1961, 'Columbia University'),\n",
        "        ('Ruby Bridges','NULL' , 'Kansas City Business School'),\n",
        "       ('LaKeta L Kemp', 2024, 'Howard University')]\n",
        "\n",
        "# Now let's add the data as new records.\n",
        "cur.executemany('''\n",
        "INSERT INTO graduates (name, graduated, school) VALUES (?, ?, ?)''',data)\n",
        "conn.commit()"
      ]
    },
    {
      "cell_type": "markdown",
      "id": "3b49c050-c6ad-4967-a079-e1bdcfd4a188",
      "metadata": {
        "id": "3b49c050-c6ad-4967-a079-e1bdcfd4a188"
      },
      "source": [
        "## Querying the new table: the SELECT Statement\n",
        "The collection of data can be searched and the matches returned using the `SELECT` statement. This is the command used to select specific data from the table and return it to the user. The data can be stored as a variable and later as a dataframe to manipulate with Pandas. Multiple criteria can be looped together with the `SELECT` statement to narrow down the results. Take care in the string order for the commands. Adding too many items together can restrict the results down to a few or even no results. The basic `SELECT` statement requires the field names and the name of the table.\n",
        "\n",
        "`SELECT`: This command is used to select data from a table. <br>\n",
        "Example:<br>\n",
        "\n",
        "        SELECT name, age\n",
        "        FROM students;\n",
        "## WHERE Statements\n",
        "The `WHERE` Statement is a conditional clause used to filter results in SQL. Conditions on the values selected are added with `WHERE` and a logic statement. Use the `>`, `<`, `=` and combinations to evaluate the list for the conditions.\n",
        "\n",
        "## BETWEEN Statements\n",
        "Similar to the WHERE Statement, the `BETWEEN` statement allows the selected data to be constrained between more than one condition.  This statement is used when the values are expected in an inclusive range. The range can be dates, integers, decimals, and text values."
      ]
    },
    {
      "cell_type": "code",
      "execution_count": 10,
      "id": "f59e89d3-acaa-42d3-b3b3-230c51921266",
      "metadata": {
        "colab": {
          "base_uri": "https://localhost:8080/"
        },
        "id": "f59e89d3-acaa-42d3-b3b3-230c51921266",
        "outputId": "baa76dad-c384-4630-bd99-1173234533d1"
      },
      "outputs": [
        {
          "output_type": "execute_result",
          "data": {
            "text/plain": [
              "[(1, 'Shirley Chisholm', 1951, 'Columbia University'),\n",
              " (2, 'Kimberle Crenshaw', 1989, 'Columbia University'),\n",
              " (3, 'Barack Obama', 1983, 'Columbia University'),\n",
              " (4, 'Mae Jemison', 1981, 'Cornell University School of Medicine'),\n",
              " (5, 'Bessie Coleman', 'NULL', 'Langston Industrial College'),\n",
              " (6, 'Langston Hughes', 1929, 'Lincoln University'),\n",
              " (7, 'Maya Angelou', 1944, 'Mission High School'),\n",
              " (8, 'Zora Neale Hurston', 1928, 'Columbia University'),\n",
              " (9, 'Claudette Colvin', 'NULL', 'Booker T Washington High School'),\n",
              " (10, 'Martin Luther King Jr', 1948, 'Morehouse College'),\n",
              " (11, 'Audre Lorde', 1961, 'Columbia University'),\n",
              " (12, 'Ruby Bridges', 'NULL', 'Kansas City Business School'),\n",
              " (13, 'LaKeta L Kemp', 2024, 'Howard University')]"
            ]
          },
          "metadata": {},
          "execution_count": 10
        }
      ],
      "source": [
        "# Let's use fetchall to see the entire list\n",
        "cur.execute('''\n",
        "SELECT *\n",
        "FROM graduates;''')\n",
        "\n",
        "cur.fetchall()"
      ]
    },
    {
      "cell_type": "code",
      "execution_count": 11,
      "id": "e44201dd-11f9-408c-8702-2b7e749a62f0",
      "metadata": {
        "colab": {
          "base_uri": "https://localhost:8080/"
        },
        "id": "e44201dd-11f9-408c-8702-2b7e749a62f0",
        "outputId": "cbeff836-6e88-43b2-f111-228409734911"
      },
      "outputs": [
        {
          "output_type": "execute_result",
          "data": {
            "text/plain": [
              "[(1, 'Shirley Chisholm', 1951, 'Columbia University'),\n",
              " (2, 'Kimberle Crenshaw', 1989, 'Columbia University'),\n",
              " (3, 'Barack Obama', 1983, 'Columbia University'),\n",
              " (4, 'Mae Jemison', 1981, 'Cornell University School of Medicine'),\n",
              " (5, 'Bessie Coleman', 'NULL', 'Langston Industrial College'),\n",
              " (6, 'Langston Hughes', 1929, 'Lincoln University'),\n",
              " (7, 'Maya Angelou', 1944, 'Mission High School'),\n",
              " (8, 'Zora Neale Hurston', 1928, 'Columbia University'),\n",
              " (9, 'Claudette Colvin', 'NULL', 'Booker T Washington High School'),\n",
              " (10, 'Martin Luther King Jr', 1948, 'Morehouse College'),\n",
              " (11, 'Audre Lorde', 1961, 'Columbia University'),\n",
              " (12, 'Ruby Bridges', 'NULL', 'Kansas City Business School'),\n",
              " (13, 'LaKeta L Kemp', 2024, 'Howard University')]"
            ]
          },
          "metadata": {},
          "execution_count": 11
        }
      ],
      "source": [
        "# Let's use fetchall to see the entire list\n",
        "cur.execute('''\n",
        "SELECT *\n",
        "FROM graduates\n",
        "LIMIT 13;''')\n",
        "\n",
        "cur.fetchall()"
      ]
    },
    {
      "cell_type": "code",
      "execution_count": 12,
      "id": "fc1ebf0b-3f84-4f44-9631-e79dd7a4acbf",
      "metadata": {
        "colab": {
          "base_uri": "https://localhost:8080/"
        },
        "id": "fc1ebf0b-3f84-4f44-9631-e79dd7a4acbf",
        "outputId": "17a3a856-25fc-40c4-a130-860bdc8ad5e7"
      },
      "outputs": [
        {
          "output_type": "execute_result",
          "data": {
            "text/plain": [
              "[(1, 'Shirley Chisholm', 1951, 'Columbia University'),\n",
              " (2, 'Kimberle Crenshaw', 1989, 'Columbia University'),\n",
              " (3, 'Barack Obama', 1983, 'Columbia University'),\n",
              " (4, 'Mae Jemison', 1981, 'Cornell University School of Medicine'),\n",
              " (5, 'Bessie Coleman', 'NULL', 'Langston Industrial College'),\n",
              " (9, 'Claudette Colvin', 'NULL', 'Booker T Washington High School'),\n",
              " (11, 'Audre Lorde', 1961, 'Columbia University'),\n",
              " (12, 'Ruby Bridges', 'NULL', 'Kansas City Business School'),\n",
              " (13, 'LaKeta L Kemp', 2024, 'Howard University')]"
            ]
          },
          "metadata": {},
          "execution_count": 12
        }
      ],
      "source": [
        "# Let's select graduates after 1950\n",
        "cur.execute('''\n",
        "SELECT *\n",
        "    FROM graduates\n",
        "    WHERE graduated > 1950;\n",
        "''')\n",
        "\n",
        "cur.fetchall()"
      ]
    },
    {
      "cell_type": "code",
      "execution_count": 13,
      "id": "2f1dc648-700e-49ed-9860-a212e0dc34cc",
      "metadata": {
        "colab": {
          "base_uri": "https://localhost:8080/"
        },
        "id": "2f1dc648-700e-49ed-9860-a212e0dc34cc",
        "outputId": "a3fe1a53-2db0-4471-e5b6-52cbd66ef233"
      },
      "outputs": [
        {
          "output_type": "execute_result",
          "data": {
            "text/plain": [
              "[(5, 'Bessie Coleman', 'NULL', 'Langston Industrial College'),\n",
              " (9, 'Claudette Colvin', 'NULL', 'Booker T Washington High School'),\n",
              " (12, 'Ruby Bridges', 'NULL', 'Kansas City Business School')]"
            ]
          },
          "metadata": {},
          "execution_count": 13
        }
      ],
      "source": [
        "# Let's select graduates after 1950\n",
        "cur.execute('''\n",
        "SELECT *\n",
        "    FROM graduates\n",
        "    WHERE graduated = \"NULL\";\n",
        "''')\n",
        "\n",
        "cur.fetchall()"
      ]
    },
    {
      "cell_type": "code",
      "execution_count": 14,
      "id": "37ec7581-a204-4e09-a5ca-ce048b2bcbe1",
      "metadata": {
        "colab": {
          "base_uri": "https://localhost:8080/"
        },
        "id": "37ec7581-a204-4e09-a5ca-ce048b2bcbe1",
        "outputId": "cad98591-5f7a-477a-e289-84ef09c5964e"
      },
      "outputs": [
        {
          "output_type": "execute_result",
          "data": {
            "text/plain": [
              "[(2, 'Kimberle Crenshaw', 1989, 'Columbia University'),\n",
              " (3, 'Barack Obama', 1983, 'Columbia University'),\n",
              " (4, 'Mae Jemison', 1981, 'Cornell University School of Medicine')]"
            ]
          },
          "metadata": {},
          "execution_count": 14
        }
      ],
      "source": [
        "# Let's select graduates between 1970 and 2000\n",
        "cur.execute('''\n",
        "SELECT *\n",
        "    FROM graduates\n",
        "    WHERE graduated BETWEEN 1970 AND 2000;\n",
        "''')\n",
        "\n",
        "cur.fetchall()"
      ]
    },
    {
      "cell_type": "code",
      "execution_count": 15,
      "id": "032bf2f6-b0bf-4bf2-96d5-4d143e08600a",
      "metadata": {
        "colab": {
          "base_uri": "https://localhost:8080/"
        },
        "id": "032bf2f6-b0bf-4bf2-96d5-4d143e08600a",
        "outputId": "169435a6-330a-4272-9511-a0a444364246"
      },
      "outputs": [
        {
          "output_type": "execute_result",
          "data": {
            "text/plain": [
              "[]"
            ]
          },
          "metadata": {},
          "execution_count": 15
        }
      ],
      "source": [
        "# Let's select graduates between 1970 and 2000\n",
        "# The BETWEEN Statement must be START AND END\n",
        "cur.execute('''\n",
        "SELECT *\n",
        "    FROM graduates\n",
        "    WHERE graduated BETWEEN 2000 AND 1970;\n",
        "''')\n",
        "\n",
        "cur.fetchall()"
      ]
    },
    {
      "cell_type": "code",
      "execution_count": 16,
      "id": "1d41d9e1-1beb-4f4b-8764-fa97df65a0bc",
      "metadata": {
        "colab": {
          "base_uri": "https://localhost:8080/"
        },
        "id": "1d41d9e1-1beb-4f4b-8764-fa97df65a0bc",
        "outputId": "52f0c168-a378-47a6-abd4-9d643a22873e"
      },
      "outputs": [
        {
          "output_type": "execute_result",
          "data": {
            "text/plain": [
              "[('Shirley Chisholm', 1951, 'Columbia University'),\n",
              " ('Kimberle Crenshaw', 1989, 'Columbia University'),\n",
              " ('Barack Obama', 1983, 'Columbia University'),\n",
              " ('Mae Jemison', 1981, 'Cornell University School of Medicine'),\n",
              " ('Bessie Coleman', 'NULL', 'Langston Industrial College'),\n",
              " ('Langston Hughes', 1929, 'Lincoln University'),\n",
              " ('Maya Angelou', 1944, 'Mission High School'),\n",
              " ('Zora Neale Hurston', 1928, 'Columbia University'),\n",
              " ('Claudette Colvin', 'NULL', 'Booker T Washington High School'),\n",
              " ('Martin Luther King Jr', 1948, 'Morehouse College'),\n",
              " ('Audre Lorde', 1961, 'Columbia University'),\n",
              " ('Ruby Bridges', 'NULL', 'Kansas City Business School'),\n",
              " ('LaKeta L Kemp', 2024, 'Howard University')]"
            ]
          },
          "metadata": {},
          "execution_count": 16
        }
      ],
      "source": [
        "# We have added Shirley Chisholm five extra times, let's remove the duplicates\n",
        "# Using a SELECT Statement\n",
        "cur.execute('''\n",
        "SELECT DISTINCT name, graduated, school\n",
        "FROM graduates;\n",
        "    ''')\n",
        "cur.fetchall()"
      ]
    },
    {
      "cell_type": "code",
      "execution_count": 17,
      "id": "21cf7759-b2c4-4392-826d-e2cc98b1fc5b",
      "metadata": {
        "colab": {
          "base_uri": "https://localhost:8080/"
        },
        "id": "21cf7759-b2c4-4392-826d-e2cc98b1fc5b",
        "outputId": "a86b184d-e022-4fd0-dd16-47ae5c78984b"
      },
      "outputs": [
        {
          "output_type": "execute_result",
          "data": {
            "text/plain": [
              "[(1, 'Shirley Chisholm', 1951, 'Columbia University'),\n",
              " (2, 'Kimberle Crenshaw', 1989, 'Columbia University'),\n",
              " (3, 'Barack Obama', 1983, 'Columbia University'),\n",
              " (4, 'Mae Jemison', 1981, 'Cornell University School of Medicine'),\n",
              " (5, 'Bessie Coleman', 'NULL', 'Langston Industrial College'),\n",
              " (6, 'Langston Hughes', 1929, 'Lincoln University'),\n",
              " (7, 'Maya Angelou', 1944, 'Mission High School'),\n",
              " (8, 'Zora Neale Hurston', 1928, 'Columbia University'),\n",
              " (9, 'Claudette Colvin', 'NULL', 'Booker T Washington High School'),\n",
              " (10, 'Martin Luther King Jr', 1948, 'Morehouse College'),\n",
              " (11, 'Audre Lorde', 1961, 'Columbia University'),\n",
              " (12, 'Ruby Bridges', 'NULL', 'Kansas City Business School')]"
            ]
          },
          "metadata": {},
          "execution_count": 17
        }
      ],
      "source": [
        "# Deleting the actual values from the ID Number\n",
        "cur.execute('''\n",
        "DELETE\n",
        "FROM graduates WHERE id > 12;\n",
        "''')\n",
        "\n",
        "cur.execute('''\n",
        "SELECT *\n",
        "FROM graduates;\n",
        "''')\n",
        "\n",
        "cur.fetchall()"
      ]
    },
    {
      "cell_type": "markdown",
      "id": "1e8448ae-29ed-4a86-8361-84b501c8b5bd",
      "metadata": {
        "id": "1e8448ae-29ed-4a86-8361-84b501c8b5bd"
      },
      "source": [
        "## Importing File Data into the Database\n",
        "The data is located in a CSV file that needs to be designated as the input for the data. We use SQLite3 in Python, so all our usual Python methods will also work. This includes conditional logic and loops. We can use a loop to read each CSV file row and map the values to their respective fields."
      ]
    },
    {
      "cell_type": "code",
      "execution_count": 18,
      "id": "6e03fb32-2ba3-418a-b76d-826de3eab913",
      "metadata": {
        "scrolled": true,
        "colab": {
          "base_uri": "https://localhost:8080/",
          "height": 374
        },
        "id": "6e03fb32-2ba3-418a-b76d-826de3eab913",
        "outputId": "a0b1191e-e0ce-49ea-f6ad-a8317327393e"
      },
      "outputs": [
        {
          "output_type": "error",
          "ename": "FileNotFoundError",
          "evalue": "[Errno 2] No such file or directory: 'EnergyWorldDevelopmentIndicators_Data.csv'",
          "traceback": [
            "\u001b[0;31m---------------------------------------------------------------------------\u001b[0m",
            "\u001b[0;31mFileNotFoundError\u001b[0m                         Traceback (most recent call last)",
            "\u001b[0;32m<ipython-input-18-5b1874876d28>\u001b[0m in \u001b[0;36m<cell line: 0>\u001b[0;34m()\u001b[0m\n\u001b[1;32m      1\u001b[0m \u001b[0;31m# Import a dataset into dataFrame\u001b[0m\u001b[0;34m\u001b[0m\u001b[0;34m\u001b[0m\u001b[0m\n\u001b[1;32m      2\u001b[0m \u001b[0;31m# Read the dataset\u001b[0m\u001b[0;34m\u001b[0m\u001b[0;34m\u001b[0m\u001b[0m\n\u001b[0;32m----> 3\u001b[0;31m \u001b[0mpath\u001b[0m \u001b[0;34m=\u001b[0m \u001b[0mpd\u001b[0m\u001b[0;34m.\u001b[0m\u001b[0mread_csv\u001b[0m\u001b[0;34m(\u001b[0m\u001b[0;34m'EnergyWorldDevelopmentIndicators_Data.csv'\u001b[0m\u001b[0;34m)\u001b[0m\u001b[0;34m\u001b[0m\u001b[0;34m\u001b[0m\u001b[0m\n\u001b[0m\u001b[1;32m      4\u001b[0m \u001b[0;34m\u001b[0m\u001b[0m\n\u001b[1;32m      5\u001b[0m \u001b[0;31m# Create the Dataframe\u001b[0m\u001b[0;34m\u001b[0m\u001b[0;34m\u001b[0m\u001b[0m\n",
            "\u001b[0;32m/usr/local/lib/python3.11/dist-packages/pandas/io/parsers/readers.py\u001b[0m in \u001b[0;36mread_csv\u001b[0;34m(filepath_or_buffer, sep, delimiter, header, names, index_col, usecols, dtype, engine, converters, true_values, false_values, skipinitialspace, skiprows, skipfooter, nrows, na_values, keep_default_na, na_filter, verbose, skip_blank_lines, parse_dates, infer_datetime_format, keep_date_col, date_parser, date_format, dayfirst, cache_dates, iterator, chunksize, compression, thousands, decimal, lineterminator, quotechar, quoting, doublequote, escapechar, comment, encoding, encoding_errors, dialect, on_bad_lines, delim_whitespace, low_memory, memory_map, float_precision, storage_options, dtype_backend)\u001b[0m\n\u001b[1;32m   1024\u001b[0m     \u001b[0mkwds\u001b[0m\u001b[0;34m.\u001b[0m\u001b[0mupdate\u001b[0m\u001b[0;34m(\u001b[0m\u001b[0mkwds_defaults\u001b[0m\u001b[0;34m)\u001b[0m\u001b[0;34m\u001b[0m\u001b[0;34m\u001b[0m\u001b[0m\n\u001b[1;32m   1025\u001b[0m \u001b[0;34m\u001b[0m\u001b[0m\n\u001b[0;32m-> 1026\u001b[0;31m     \u001b[0;32mreturn\u001b[0m \u001b[0m_read\u001b[0m\u001b[0;34m(\u001b[0m\u001b[0mfilepath_or_buffer\u001b[0m\u001b[0;34m,\u001b[0m \u001b[0mkwds\u001b[0m\u001b[0;34m)\u001b[0m\u001b[0;34m\u001b[0m\u001b[0;34m\u001b[0m\u001b[0m\n\u001b[0m\u001b[1;32m   1027\u001b[0m \u001b[0;34m\u001b[0m\u001b[0m\n\u001b[1;32m   1028\u001b[0m \u001b[0;34m\u001b[0m\u001b[0m\n",
            "\u001b[0;32m/usr/local/lib/python3.11/dist-packages/pandas/io/parsers/readers.py\u001b[0m in \u001b[0;36m_read\u001b[0;34m(filepath_or_buffer, kwds)\u001b[0m\n\u001b[1;32m    618\u001b[0m \u001b[0;34m\u001b[0m\u001b[0m\n\u001b[1;32m    619\u001b[0m     \u001b[0;31m# Create the parser.\u001b[0m\u001b[0;34m\u001b[0m\u001b[0;34m\u001b[0m\u001b[0m\n\u001b[0;32m--> 620\u001b[0;31m     \u001b[0mparser\u001b[0m \u001b[0;34m=\u001b[0m \u001b[0mTextFileReader\u001b[0m\u001b[0;34m(\u001b[0m\u001b[0mfilepath_or_buffer\u001b[0m\u001b[0;34m,\u001b[0m \u001b[0;34m**\u001b[0m\u001b[0mkwds\u001b[0m\u001b[0;34m)\u001b[0m\u001b[0;34m\u001b[0m\u001b[0;34m\u001b[0m\u001b[0m\n\u001b[0m\u001b[1;32m    621\u001b[0m \u001b[0;34m\u001b[0m\u001b[0m\n\u001b[1;32m    622\u001b[0m     \u001b[0;32mif\u001b[0m \u001b[0mchunksize\u001b[0m \u001b[0;32mor\u001b[0m \u001b[0miterator\u001b[0m\u001b[0;34m:\u001b[0m\u001b[0;34m\u001b[0m\u001b[0;34m\u001b[0m\u001b[0m\n",
            "\u001b[0;32m/usr/local/lib/python3.11/dist-packages/pandas/io/parsers/readers.py\u001b[0m in \u001b[0;36m__init__\u001b[0;34m(self, f, engine, **kwds)\u001b[0m\n\u001b[1;32m   1618\u001b[0m \u001b[0;34m\u001b[0m\u001b[0m\n\u001b[1;32m   1619\u001b[0m         \u001b[0mself\u001b[0m\u001b[0;34m.\u001b[0m\u001b[0mhandles\u001b[0m\u001b[0;34m:\u001b[0m \u001b[0mIOHandles\u001b[0m \u001b[0;34m|\u001b[0m \u001b[0;32mNone\u001b[0m \u001b[0;34m=\u001b[0m \u001b[0;32mNone\u001b[0m\u001b[0;34m\u001b[0m\u001b[0;34m\u001b[0m\u001b[0m\n\u001b[0;32m-> 1620\u001b[0;31m         \u001b[0mself\u001b[0m\u001b[0;34m.\u001b[0m\u001b[0m_engine\u001b[0m \u001b[0;34m=\u001b[0m \u001b[0mself\u001b[0m\u001b[0;34m.\u001b[0m\u001b[0m_make_engine\u001b[0m\u001b[0;34m(\u001b[0m\u001b[0mf\u001b[0m\u001b[0;34m,\u001b[0m \u001b[0mself\u001b[0m\u001b[0;34m.\u001b[0m\u001b[0mengine\u001b[0m\u001b[0;34m)\u001b[0m\u001b[0;34m\u001b[0m\u001b[0;34m\u001b[0m\u001b[0m\n\u001b[0m\u001b[1;32m   1621\u001b[0m \u001b[0;34m\u001b[0m\u001b[0m\n\u001b[1;32m   1622\u001b[0m     \u001b[0;32mdef\u001b[0m \u001b[0mclose\u001b[0m\u001b[0;34m(\u001b[0m\u001b[0mself\u001b[0m\u001b[0;34m)\u001b[0m \u001b[0;34m->\u001b[0m \u001b[0;32mNone\u001b[0m\u001b[0;34m:\u001b[0m\u001b[0;34m\u001b[0m\u001b[0;34m\u001b[0m\u001b[0m\n",
            "\u001b[0;32m/usr/local/lib/python3.11/dist-packages/pandas/io/parsers/readers.py\u001b[0m in \u001b[0;36m_make_engine\u001b[0;34m(self, f, engine)\u001b[0m\n\u001b[1;32m   1878\u001b[0m                 \u001b[0;32mif\u001b[0m \u001b[0;34m\"b\"\u001b[0m \u001b[0;32mnot\u001b[0m \u001b[0;32min\u001b[0m \u001b[0mmode\u001b[0m\u001b[0;34m:\u001b[0m\u001b[0;34m\u001b[0m\u001b[0;34m\u001b[0m\u001b[0m\n\u001b[1;32m   1879\u001b[0m                     \u001b[0mmode\u001b[0m \u001b[0;34m+=\u001b[0m \u001b[0;34m\"b\"\u001b[0m\u001b[0;34m\u001b[0m\u001b[0;34m\u001b[0m\u001b[0m\n\u001b[0;32m-> 1880\u001b[0;31m             self.handles = get_handle(\n\u001b[0m\u001b[1;32m   1881\u001b[0m                 \u001b[0mf\u001b[0m\u001b[0;34m,\u001b[0m\u001b[0;34m\u001b[0m\u001b[0;34m\u001b[0m\u001b[0m\n\u001b[1;32m   1882\u001b[0m                 \u001b[0mmode\u001b[0m\u001b[0;34m,\u001b[0m\u001b[0;34m\u001b[0m\u001b[0;34m\u001b[0m\u001b[0m\n",
            "\u001b[0;32m/usr/local/lib/python3.11/dist-packages/pandas/io/common.py\u001b[0m in \u001b[0;36mget_handle\u001b[0;34m(path_or_buf, mode, encoding, compression, memory_map, is_text, errors, storage_options)\u001b[0m\n\u001b[1;32m    871\u001b[0m         \u001b[0;32mif\u001b[0m \u001b[0mioargs\u001b[0m\u001b[0;34m.\u001b[0m\u001b[0mencoding\u001b[0m \u001b[0;32mand\u001b[0m \u001b[0;34m\"b\"\u001b[0m \u001b[0;32mnot\u001b[0m \u001b[0;32min\u001b[0m \u001b[0mioargs\u001b[0m\u001b[0;34m.\u001b[0m\u001b[0mmode\u001b[0m\u001b[0;34m:\u001b[0m\u001b[0;34m\u001b[0m\u001b[0;34m\u001b[0m\u001b[0m\n\u001b[1;32m    872\u001b[0m             \u001b[0;31m# Encoding\u001b[0m\u001b[0;34m\u001b[0m\u001b[0;34m\u001b[0m\u001b[0m\n\u001b[0;32m--> 873\u001b[0;31m             handle = open(\n\u001b[0m\u001b[1;32m    874\u001b[0m                 \u001b[0mhandle\u001b[0m\u001b[0;34m,\u001b[0m\u001b[0;34m\u001b[0m\u001b[0;34m\u001b[0m\u001b[0m\n\u001b[1;32m    875\u001b[0m                 \u001b[0mioargs\u001b[0m\u001b[0;34m.\u001b[0m\u001b[0mmode\u001b[0m\u001b[0;34m,\u001b[0m\u001b[0;34m\u001b[0m\u001b[0;34m\u001b[0m\u001b[0m\n",
            "\u001b[0;31mFileNotFoundError\u001b[0m: [Errno 2] No such file or directory: 'EnergyWorldDevelopmentIndicators_Data.csv'"
          ]
        }
      ],
      "source": [
        "# Import a dataset into dataFrame\n",
        "# Read the dataset\n",
        "path = pd.read_csv('EnergyWorldDevelopmentIndicators_Data.csv')\n",
        "\n",
        "# Create the Dataframe\n",
        "energyIndicatorsWorld = pd.DataFrame(path)\n",
        "\n",
        "# Read the first 15 rows of data\n",
        "energyIndicatorsWorld.head(15)"
      ]
    },
    {
      "cell_type": "code",
      "execution_count": null,
      "id": "36dfb875-55bb-4b6f-a082-602bd2f03941",
      "metadata": {
        "id": "36dfb875-55bb-4b6f-a082-602bd2f03941"
      },
      "outputs": [],
      "source": [
        "# The spaces in the column headers are a problem, let's rename the columns\n",
        "# Syntax: df = df.rename(columns={'currentColumnName':'newColumnName', 'nextCurrentColumnName':'nextNewColumnName'})\n",
        "energyIndicatorsWorld = energyIndicatorsWorld.rename(columns={'Country Name':'Country_Name',\n",
        "                                                              'Country Code': 'Country_Code',\n",
        "                                                              'Series Name': 'Series_Name',\n",
        "                                                              'Series Code': 'Series_Code',\n",
        "                                                              '2000':'Y2000',\n",
        "                                                              '2001':'Y2001',\n",
        "                                                              '2003':'Y2003',\n",
        "                                                              '2004':'Y2004',\n",
        "                                                              '2005':'Y2005',\n",
        "                                                              '2006':'Y2006',\n",
        "                                                              '2007':'Y2007',\n",
        "                                                              '2008':'Y2008',\n",
        "                                                              '2009':'Y2009',\n",
        "                                                              '2010':'Y2010',\n",
        "                                                              '2011':'Y2011',\n",
        "                                                              '2012':'Y2012',\n",
        "                                                              '2013':'Y2013',\n",
        "                                                              '2014':'Y2014',\n",
        "                                                              '2015':'Y2015',\n",
        "                                                              '2016':'Y2016',\n",
        "                                                              '2017':'Y2017',\n",
        "                                                              '2018':'Y2018',\n",
        "                                                              '2019':'Y2019',\n",
        "                                                              '2020':'Y2020',\n",
        "                                                              '2021':'Y2021',\n",
        "                                                              '2022':'Y2022',\n",
        "                                                             })\n",
        "\n",
        "# Let's view the new columns and update the variable\n",
        "# Pass the columns to the variable: Use the variable = DataFrame.columns method\n",
        "energyCols = energyIndicatorsWorld.columns\n",
        "# Call the variable to see the contents\n",
        "energyCols"
      ]
    },
    {
      "cell_type": "code",
      "execution_count": null,
      "id": "50c9421e-d027-4767-bfef-afbfd8dac85e",
      "metadata": {
        "id": "50c9421e-d027-4767-bfef-afbfd8dac85e"
      },
      "outputs": [],
      "source": [
        "# The SQL CSV Import throws an error:\n",
        "# ValueError: could not convert string to float: '..'\n",
        "# Let's update all the '..' to NaN then drop.\n"
      ]
    },
    {
      "cell_type": "code",
      "execution_count": null,
      "id": "a6232f5d-04e3-4f9e-aff0-e96ce15be2bc",
      "metadata": {
        "id": "a6232f5d-04e3-4f9e-aff0-e96ce15be2bc"
      },
      "outputs": [],
      "source": [
        "# Use the cursor to DROP TABLE if it exists\n",
        "cur.execute('DROP TABLE IF EXISTS energyindicators')\n",
        "\n",
        "# Use the cursor to CREATE TABLE\n",
        "cur.execute('''\n",
        "CREATE TABLE \"energyindicators\"(\n",
        "    id INTEGER PRIMARY KEY AUTOINCREMENT,\n",
        "    \"Country_Name\"\tTEXT,\n",
        "    \"Country_Code\"\tTEXT,\n",
        "    \"Series_Name\"\tTEXT,\n",
        "    \"Series_Code\"\tTEXT,\n",
        "    \"Y2000\"\tREAL,\n",
        "    \"Y2001\"\tREAL,\n",
        "    \"Y2002\"\tREAL,\n",
        "    \"Y2003\"\tREAL,\n",
        "    \"Y2004\"\tREAL,\n",
        "    \"Y2005\"\tREAL,\n",
        "    \"Y2006\"\tREAL,\n",
        "    \"Y2007\"\tREAL,\n",
        "    \"Y2008\"\tREAL,\n",
        "    \"Y2009\"\tREAL,\n",
        "    \"Y2010\"\tREAL,\n",
        "    \"Y2011\"\tREAL,\n",
        "    \"Y2012\"\tREAL,\n",
        "    \"Y2013\"\tREAL,\n",
        "    \"Y2014\"\tREAL,\n",
        "    \"Y2015\"\tREAL,\n",
        "    \"Y2016\"\tREAL,\n",
        "    \"Y2017\"\tREAL,\n",
        "    \"Y2018\"\tREAL,\n",
        "    \"Y2019\"\tREAL,\n",
        "    \"Y2020\"\tREAL,\n",
        "    \"Y2021\"\tREAL,\n",
        "    \"Y2022\" REAL)\n",
        "    ''')"
      ]
    },
    {
      "cell_type": "code",
      "execution_count": null,
      "id": "729c69df-7a91-4544-bdff-8adcfb1dc8fd",
      "metadata": {
        "id": "729c69df-7a91-4544-bdff-8adcfb1dc8fd"
      },
      "outputs": [],
      "source": [
        "# Designate the filename for the input\n",
        "filename = \"EnergyWorldDevelopmentIndicators_Data.csv\"\n",
        "\n",
        "# Open the file and read the data\n",
        "with open(filename) as csv_file:\n",
        "    csv_reader = csv.reader(csv_file, delimiter=',')\n",
        "    for row in csv_reader:\n",
        "        print(row)\n",
        "        Country_Code =row[0] # Set the Country Code as the unique ID for Countries\n",
        "        Country_Name=row[1]\n",
        "        Series_Name =row[2]\n",
        "        Series_Code =row[3]\n",
        "        Y2000 = float(row[4])\n",
        "        Y2001 = float(row[5])\n",
        "        Y2002 = float(row[6])\n",
        "        Y2003 = float(row[7])\n",
        "        Y2004 = float(row[8])\n",
        "        Y2005 = float(row[9])\n",
        "        Y2006 = float(row[10])\n",
        "        Y2007 = float(row[11])\n",
        "        Y2008 = float(row[12])\n",
        "        Y2009 = float(row[13])\n",
        "        Y2010 = float(row[14])\n",
        "        Y2011 = float(row[15])\n",
        "        Y2012 = float(row[16])\n",
        "        Y2013 = float(row[17])\n",
        "        Y2014 = float(row[18])\n",
        "        Y2015 = float(row[19])\n",
        "        Y2016 = float(row[20])\n",
        "        Y2017 = float(row[21])\n",
        "        Y2018 = float(row[22])\n",
        "        Y2019 = float(row[23])\n",
        "        Y2020 = float(row[24])\n",
        "        Y2021 = float(row[25])\n",
        "        Y2022 = float(row[26])\n",
        "        cur.execute('''INSERT INTO energyindicators(\"Country_Code\", \"Country_Name\", \"Series_Name\",\n",
        "            \"Series_Code\", Y2000, Y2001, Y2002, Y2003, Y2004, Y2005, Y2006, Y2007, Y2008, Y2009, Y2010,\n",
        "            Y2011,Y2012,Y2013,Y2014, Y2015, Y2016, Y2017, Y2018, Y2019, Y2020, Y2021, Y2022)\n",
        "            VALUES (?,?,?,?,?,?,?,?,?,?,?,?,?,?,?,?,?,?,?,?,?,?,?,?,?,?,?)''',\n",
        "                    (Country_Code, Country_Name, Series_Name, Series_Code, Y2000, Y2001, Y2002, Y2003, Y2004, Y2005, Y2006, Y2007, Y2008,\n",
        "        Y2009, Y2010, Y2011, Y2012, Y2013, Y2014, Y2015, Y2016, Y2017, Y2018, Y2019, Y2020, Y2021, Y2022))\n",
        "        conn.commit()"
      ]
    },
    {
      "cell_type": "code",
      "execution_count": null,
      "id": "7a059a47-f82e-43ed-b775-e3e97d770dec",
      "metadata": {
        "id": "7a059a47-f82e-43ed-b775-e3e97d770dec"
      },
      "outputs": [],
      "source": [
        "# Let's load our dataFrame data into a SQLite Table\n",
        "energyIndicatorsWorld.to_sql('energyindicators',\n",
        "                             conn,\n",
        "                             if_exists='append',\n",
        "                             index=False)"
      ]
    },
    {
      "cell_type": "code",
      "execution_count": null,
      "id": "b10ee631-822f-4e0f-a4c6-f41b8f28806c",
      "metadata": {
        "id": "b10ee631-822f-4e0f-a4c6-f41b8f28806c"
      },
      "outputs": [],
      "source": [
        "# Let's SELECT Countries WHERE Year 2000 is BETWEEN 5 and 75\n",
        "cur.execute('''\n",
        "SELECT *\n",
        "    FROM energyindicators\n",
        "    LIMIT 10;\n",
        "''')\n",
        "\n",
        "cur.fetchall()"
      ]
    },
    {
      "cell_type": "code",
      "execution_count": null,
      "id": "2c969423-04c3-42ed-9232-f27059cc5b7e",
      "metadata": {
        "id": "2c969423-04c3-42ed-9232-f27059cc5b7e"
      },
      "outputs": [],
      "source": [
        "# Let's SELECT Countries WHERE Year 2000 is BETWEEN 5 and 75\n",
        "cur.execute('''\n",
        "SELECT *\n",
        "    FROM energyindicators\n",
        "    WHERE 2000 BETWEEN 5 AND 75;\n",
        "''')\n",
        "\n",
        "cur.fetchall()"
      ]
    }
  ],
  "metadata": {
    "kernelspec": {
      "display_name": "Python [conda env:base] *",
      "language": "python",
      "name": "conda-base-py"
    },
    "language_info": {
      "codemirror_mode": {
        "name": "ipython",
        "version": 3
      },
      "file_extension": ".py",
      "mimetype": "text/x-python",
      "name": "python",
      "nbconvert_exporter": "python",
      "pygments_lexer": "ipython3",
      "version": "3.10.16"
    },
    "colab": {
      "provenance": [],
      "include_colab_link": true
    }
  },
  "nbformat": 4,
  "nbformat_minor": 5
}