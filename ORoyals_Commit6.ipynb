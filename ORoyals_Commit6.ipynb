{
  "cells": [
    {
      "cell_type": "markdown",
      "metadata": {
        "id": "view-in-github",
        "colab_type": "text"
      },
      "source": [
        "<a href=\"https://colab.research.google.com/github/omyahro/Data_200_Royals/blob/main/ORoyals_Commit6.ipynb\" target=\"_parent\"><img src=\"https://colab.research.google.com/assets/colab-badge.svg\" alt=\"Open In Colab\"/></a>"
      ]
    },
    {
      "cell_type": "markdown",
      "id": "9d858afe-64ba-4e20-9945-7495976abfce",
      "metadata": {
        "id": "9d858afe-64ba-4e20-9945-7495976abfce"
      },
      "source": [
        "# Building Databases with SQL in Python\n",
        "We will begin with a csv file, recall this is a collection of data with each value separated by commas. The data can be many rows long and each row is a **record**. Each column in the data represents a **field** in a database. The underlying structure for a database is present in the csv or xlsx file."
      ]
    },
    {
      "cell_type": "markdown",
      "id": "231f7ed3-bf43-4064-8e34-b36f3c3af3dc",
      "metadata": {
        "id": "231f7ed3-bf43-4064-8e34-b36f3c3af3dc"
      },
      "source": [
        "## Importing the Libraries\n",
        "To create a database in Python, we will introduce a new library, SQLite3. As this is your first use of this library, we need to use the `pip install sqlite-database` method to install the library and then import it for use. We will use a Python dependency library, csv, to handle the I/O tools for comma-separated value files.\n",
        "\n",
        "SQLite is a C library that provides a lightweight disk-based database that doesn’t require a separate server process and allows accessing the database using a nonstandard variant of the SQL query language. https://www.sqlite.org/about.html"
      ]
    },
    {
      "cell_type": "code",
      "execution_count": 1,
      "id": "e48d1de8-633d-4e9e-b414-5c04668f6a51",
      "metadata": {
        "colab": {
          "base_uri": "https://localhost:8080/"
        },
        "id": "e48d1de8-633d-4e9e-b414-5c04668f6a51",
        "outputId": "3549bcb1-c070-4334-9ed7-e6c73de5b938"
      },
      "outputs": [
        {
          "output_type": "stream",
          "name": "stdout",
          "text": [
            "Collecting sqlite-database\n",
            "  Downloading sqlite_database-0.7.2-py3-none-any.whl.metadata (4.2 kB)\n",
            "Downloading sqlite_database-0.7.2-py3-none-any.whl (36 kB)\n",
            "Installing collected packages: sqlite-database\n",
            "Successfully installed sqlite-database-0.7.2\n"
          ]
        }
      ],
      "source": [
        "pip install sqlite-database"
      ]
    },
    {
      "cell_type": "code",
      "execution_count": 2,
      "id": "65483680-3e84-416d-b517-dab63e8d5546",
      "metadata": {
        "id": "65483680-3e84-416d-b517-dab63e8d5546"
      },
      "outputs": [],
      "source": [
        "# Import the libraries\n",
        "import sqlite3\n",
        "import csv\n",
        "import numpy as np\n",
        "import pandas as pd"
      ]
    },
    {
      "cell_type": "markdown",
      "id": "1786bffe-d786-463c-b489-ec1bcafa98d5",
      "metadata": {
        "id": "1786bffe-d786-463c-b489-ec1bcafa98d5"
      },
      "source": [
        "## Establishing a Connection\n",
        "The first step in database creation is to establish a connection to the data and the cursor that will allow you to navigate the database and run commands. When connecting to a database, you can enter the name of an existing database or designate a filename to create a new database.\n",
        "\n",
        "Syntax: `sqlite3.connect(database, timeout=5.0,\n",
        "detect_types=0, isolation_level='DEFERRED',\n",
        "check_same_thread=True, factory=sqlite3.Connection,\n",
        "cached_statements=128, uri=False, *,\n",
        "autocommit=sqlite3.LEGACY_TRANSACTION_CONTROL)`\n",
        "\n",
        "We simplify the full syntax to include the name of the database. The additional parameters and a detailed explanation on when to use them is located here: https://docs.python.org/3/library/sqlite3.html#sqlite3-reference"
      ]
    },
    {
      "cell_type": "code",
      "execution_count": 3,
      "id": "ba8b0183-94e4-4d5d-b36a-cd747804bbe3",
      "metadata": {
        "id": "ba8b0183-94e4-4d5d-b36a-cd747804bbe3"
      },
      "outputs": [],
      "source": [
        "# Create a connection\n",
        "# Syntax: conn = sqlite3.connect('databaseName.sqlite')\n",
        "conn = sqlite3.connect('energyindicators.sqlite')\n",
        "\n",
        "# Create a cursor object to navigate\n",
        "cur = conn.cursor()"
      ]
    },
    {
      "cell_type": "markdown",
      "id": "9da9046b-4d36-4b3a-a73d-6bb07cc2a864",
      "metadata": {
        "id": "9da9046b-4d36-4b3a-a73d-6bb07cc2a864"
      },
      "source": [
        "# SQL Basics"
      ]
    },
    {
      "cell_type": "markdown",
      "id": "20abba13-e8d7-49e5-a2b8-d7c78af9ee84",
      "metadata": {
        "id": "20abba13-e8d7-49e5-a2b8-d7c78af9ee84"
      },
      "source": [
        "## Creating Tables\n",
        "The database is comprised of tables that add structure and store the data. The next step is to create a table that holds the data we would like to use from the CSV file. The data in the CSV may have a first row that designates the names of the fields, or it may consist of just the data without column headers. The field names are defined using a `CREATE TABLE` method to synchronize the fields with the column names.\n",
        "\n",
        "When creating the table fields, the field's data type must be designated. In Python, we have string; in SQL, we have TEXT.\n",
        "\n",
        "The following Python types can thus be sent to SQLite without any problem:\n",
        "<table>\n",
        "  <thead>\n",
        "    <tr>\n",
        "      <th>Python type</th>\n",
        "      <th>SQLite type</th>\n",
        "    </tr>\n",
        "  </thead>\n",
        "  <tbody>\n",
        "    <tr>\n",
        "      <td>None</td>\n",
        "      <td>NULL</td>\n",
        "    </tr>\n",
        "    <tr>\n",
        "      <td>int</td>\n",
        "      <td>INTEGER</td>\n",
        "    </tr>\n",
        "    <tr>\n",
        "      <td>float</td>\n",
        "      <td>REAL</td>\n",
        "    </tr>\n",
        "    <tr>\n",
        "      <td>str</td>\n",
        "      <td>TEXT</td>\n",
        "    </tr>\n",
        "    <tr>\n",
        "      <td>bytes</td>\n",
        "      <td>BLOB</td>\n",
        "    </tr>\n",
        "  </tbody>\n",
        "</table>\n",
        "\n",
        "You can also create a dictionary in Python and pass this to the `CREATE TABLE` method to include the field names for the table.\n",
        "\n",
        "Example:<br>\n",
        "\n",
        "       CREATE TABLE students(\n",
        "       name TEXT,\n",
        "       age INTEGER,\n",
        "       grade INTEGER\n",
        "       );"
      ]
    },
    {
      "cell_type": "code",
      "execution_count": 18,
      "id": "c077c060-8367-4ef4-9986-73534157c57b",
      "metadata": {
        "colab": {
          "base_uri": "https://localhost:8080/"
        },
        "id": "c077c060-8367-4ef4-9986-73534157c57b",
        "outputId": "934c53e1-886c-4a37-84e1-3e870a597a5d"
      },
      "outputs": [
        {
          "output_type": "execute_result",
          "data": {
            "text/plain": [
              "<sqlite3.Cursor at 0x7fae7a8ec040>"
            ]
          },
          "metadata": {},
          "execution_count": 18
        }
      ],
      "source": [
        "# Create a cursor to interact with the database.\n",
        "cur.execute('DROP TABLE BlackAthletes')"
      ]
    },
    {
      "cell_type": "code",
      "execution_count": 19,
      "id": "229fbb05-1a1f-4119-8b22-444f5bb1023a",
      "metadata": {
        "id": "229fbb05-1a1f-4119-8b22-444f5bb1023a"
      },
      "outputs": [],
      "source": [
        "# Create a new table named students\n",
        "# Table fields will be name, graduation year, and school\n",
        "cur.execute('''\n",
        "    CREATE TABLE BlackAthletes (\n",
        "        id INTEGER PRIMARY KEY AUTOINCREMENT,\n",
        "        name TEXT,\n",
        "        sport TEXT,\n",
        "        country TEXT,\n",
        "        achievements TEXT\n",
        "    )\n",
        "''')\n",
        "\n",
        "conn.commit()\n"
      ]
    },
    {
      "cell_type": "code",
      "execution_count": 20,
      "id": "aeac699e-7de0-435a-aba8-1eadccfba2eb",
      "metadata": {
        "id": "aeac699e-7de0-435a-aba8-1eadccfba2eb"
      },
      "outputs": [],
      "source": [
        "# Let's insert a record into the table\n",
        "cur.execute('''\n",
        "    INSERT INTO BlackAthletes (name, sport, country, achievements)\n",
        "    VALUES ('Michael Jordan', 'Basketball', 'USA', '6× NBA champion, global icon, Nike Air Jordan legacy')\n",
        "''')\n",
        "conn.commit()"
      ]
    },
    {
      "cell_type": "code",
      "execution_count": 21,
      "id": "75daeb2e-0fac-458b-b4f3-84f2aae63daa",
      "metadata": {
        "id": "75daeb2e-0fac-458b-b4f3-84f2aae63daa"
      },
      "outputs": [],
      "source": [
        "# Let's import more than one data into the table\n",
        "# Start with a list for the data\n",
        "athletes = [(\"Serena Williams\", \"Tennis\", \"USA\", \"23 Grand Slam titles, advocate for women in sport\"),\n",
        "    (\"LeBron James\", \"Basketball\", \"USA\", \"4× NBA champion, philanthropist, I PROMISE School founder\"),\n",
        "    (\"Simone Biles\", \"Gymnastics\", \"USA\", \"Most decorated gymnast in world history\"),\n",
        "    (\"Usain Bolt\", \"Track & Field\", \"Jamaica\", \"8× Olympic gold medalist, world record holder\"),\n",
        "    (\"Wilma Rudolph\", \"Track & Field\", \"USA\", \"First American woman to win 3 gold medals in one Olympics\"),\n",
        "    (\"Muhammad Ali\", \"Boxing\", \"USA\", \"3× world heavyweight champion, civil rights activist\"),\n",
        "    (\"Naomi Osaka\", \"Tennis\", \"Japan\", \"4× Grand Slam titles, mental health advocate\"),\n",
        "    (\"Pelé\", \"Soccer\", \"Brazil\", \"3× World Cup winner, global icon of the sport\"),\n",
        "    (\"Allyson Felix\", \"Track & Field\", \"USA\", \"Most decorated female U.S. Olympian in track\"),\n",
        "    (\"Jackie Robinson\", \"Baseball\", \"USA\", \"Broke MLB color barrier in 1947\")\n",
        "]\n",
        "\n",
        "# Now let's add the data as new records.\n",
        "cur.executemany('''\n",
        "    INSERT INTO BlackAthletes (name, sport, country, achievements)\n",
        "    VALUES (?, ?, ?, ?)\n",
        "''', athletes)\n",
        "\n",
        "conn.commit()"
      ]
    }
  ],
  "metadata": {
    "kernelspec": {
      "display_name": "Python [conda env:base] *",
      "language": "python",
      "name": "conda-base-py"
    },
    "language_info": {
      "codemirror_mode": {
        "name": "ipython",
        "version": 3
      },
      "file_extension": ".py",
      "mimetype": "text/x-python",
      "name": "python",
      "nbconvert_exporter": "python",
      "pygments_lexer": "ipython3",
      "version": "3.10.16"
    },
    "colab": {
      "provenance": [],
      "include_colab_link": true
    }
  },
  "nbformat": 4,
  "nbformat_minor": 5
}