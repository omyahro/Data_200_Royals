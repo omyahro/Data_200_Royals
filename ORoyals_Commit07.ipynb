{
  "cells": [
    {
      "cell_type": "markdown",
      "metadata": {
        "id": "view-in-github",
        "colab_type": "text"
      },
      "source": [
        "<a href=\"https://colab.research.google.com/github/omyahro/Data_200_Royals/blob/main/ORoyals_Commit07.ipynb\" target=\"_parent\"><img src=\"https://colab.research.google.com/assets/colab-badge.svg\" alt=\"Open In Colab\"/></a>"
      ]
    },
    {
      "cell_type": "code",
      "execution_count": 4,
      "id": "e48d1de8-633d-4e9e-b414-5c04668f6a51",
      "metadata": {
        "colab": {
          "base_uri": "https://localhost:8080/"
        },
        "id": "e48d1de8-633d-4e9e-b414-5c04668f6a51",
        "outputId": "dacbd6aa-bc2e-4e56-a0f1-795ed4f9d9e3"
      },
      "outputs": [
        {
          "output_type": "stream",
          "name": "stdout",
          "text": [
            "Requirement already satisfied: sqlite-database in /usr/local/lib/python3.11/dist-packages (0.7.2)\n"
          ]
        }
      ],
      "source": [
        "pip install sqlite-database"
      ]
    },
    {
      "cell_type": "code",
      "execution_count": 5,
      "id": "65483680-3e84-416d-b517-dab63e8d5546",
      "metadata": {
        "id": "65483680-3e84-416d-b517-dab63e8d5546"
      },
      "outputs": [],
      "source": [
        "# Import the libraries\n",
        "import sqlite3\n",
        "import csv\n",
        "import numpy as np\n",
        "import pandas as pd"
      ]
    },
    {
      "cell_type": "code",
      "execution_count": 6,
      "id": "ba8b0183-94e4-4d5d-b36a-cd747804bbe3",
      "metadata": {
        "id": "ba8b0183-94e4-4d5d-b36a-cd747804bbe3"
      },
      "outputs": [],
      "source": [
        "# Create a connection\n",
        "# Syntax: conn = sqlite3.connect('databaseName.sqlite')\n",
        "conn = sqlite3.connect('energyindicators.sqlite')\n",
        "\n",
        "# Create a cursor object to navigate\n",
        "cur = conn.cursor()"
      ]
    },
    {
      "cell_type": "markdown",
      "id": "9da9046b-4d36-4b3a-a73d-6bb07cc2a864",
      "metadata": {
        "id": "9da9046b-4d36-4b3a-a73d-6bb07cc2a864"
      },
      "source": [
        "# SQL Basics"
      ]
    },
    {
      "cell_type": "code",
      "execution_count": 19,
      "id": "c077c060-8367-4ef4-9986-73534157c57b",
      "metadata": {
        "colab": {
          "base_uri": "https://localhost:8080/"
        },
        "id": "c077c060-8367-4ef4-9986-73534157c57b",
        "outputId": "1f65c5f6-c933-4e5d-a527-8f8ac2c79374"
      },
      "outputs": [
        {
          "output_type": "execute_result",
          "data": {
            "text/plain": [
              "<sqlite3.Cursor at 0x791a1958c9c0>"
            ]
          },
          "metadata": {},
          "execution_count": 19
        }
      ],
      "source": [
        "# Create a cursor to interact with the database.\n",
        "cur.execute('DROP TABLE BlackAthletes')"
      ]
    },
    {
      "cell_type": "code",
      "execution_count": 20,
      "id": "229fbb05-1a1f-4119-8b22-444f5bb1023a",
      "metadata": {
        "id": "229fbb05-1a1f-4119-8b22-444f5bb1023a"
      },
      "outputs": [],
      "source": [
        "# Create a new table named students\n",
        "# Table fields will be name, graduation year, and school\n",
        "cur.execute('''\n",
        "    CREATE TABLE BlackAthletes (\n",
        "        id INTEGER PRIMARY KEY AUTOINCREMENT,\n",
        "        name TEXT,\n",
        "        sport TEXT,\n",
        "        country TEXT,\n",
        "        olympic_medals INTEGER\n",
        "    )\n",
        "''')\n",
        "\n",
        "conn.commit()\n"
      ]
    },
    {
      "cell_type": "code",
      "execution_count": 23,
      "id": "aeac699e-7de0-435a-aba8-1eadccfba2eb",
      "metadata": {
        "id": "aeac699e-7de0-435a-aba8-1eadccfba2eb"
      },
      "outputs": [],
      "source": [
        "# Let's insert a record into the table\n",
        "cur.execute('''\n",
        "    INSERT INTO BlackAthletes (name, sport, country, olympic_medals)\n",
        "    VALUES ('Michael Jordan', 'Basketball', 'USA', 2)\n",
        "''')\n",
        "conn.commit()"
      ]
    },
    {
      "cell_type": "code",
      "execution_count": 27,
      "id": "75daeb2e-0fac-458b-b4f3-84f2aae63daa",
      "metadata": {
        "id": "75daeb2e-0fac-458b-b4f3-84f2aae63daa"
      },
      "outputs": [],
      "source": [
        "# Let's import more than one data into the table\n",
        "# Start with a list for the data\n",
        "data = [\n",
        "    (\"Serena Williams\", \"Tennis\", \"USA\", 4),\n",
        "    (\"LeBron James\", \"Basketball\", \"USA\", 2),\n",
        "    (\"Simone Biles\", \"Gymnastics\", \"USA\", 7),\n",
        "    (\"Usain Bolt\", \"Track & Field\", \"Jamaica\", 8),\n",
        "    (\"Wilma Rudolph\", \"Track & Field\", \"USA\", 3),\n",
        "    (\"Muhammad Ali\", \"Boxing\", \"USA\", 1),\n",
        "    (\"Naomi Osaka\", \"Tennis\", \"Japan\", 0),\n",
        "    (\"Pelé\", \"Soccer\", \"Brazil\", 0),  # World Cups, not Olympics\n",
        "    (\"Allyson Felix\", \"Track & Field\", \"USA\", 11),\n",
        "    (\"Jackie Robinson\", \"Baseball\", \"USA\", 0)\n",
        "]\n",
        "\n",
        "# Insert data into the table\n",
        "cur.executemany('''\n",
        "    INSERT INTO BlackAthletes (name, sport, country, olympic_medals)\n",
        "    VALUES (?, ?, ?, ?)\n",
        "''', data)\n",
        "\n",
        "conn.commit()"
      ]
    },
    {
      "cell_type": "code",
      "source": [
        "cur.execute('''\n",
        "SELECT *\n",
        "FROM BlackAthletes;''')\n",
        "\n",
        "cur.fetchall()"
      ],
      "metadata": {
        "colab": {
          "base_uri": "https://localhost:8080/"
        },
        "id": "9bRsxguVUwTR",
        "outputId": "58d26080-64f1-4db5-dbdd-4bc29c786324"
      },
      "id": "9bRsxguVUwTR",
      "execution_count": 28,
      "outputs": [
        {
          "output_type": "execute_result",
          "data": {
            "text/plain": [
              "[(1, 'Michael Jordan', 'Basketball', 'USA', 2),\n",
              " (2, 'Serena Williams', 'Tennis', 'USA', 4),\n",
              " (3, 'LeBron James', 'Basketball', 'USA', 2),\n",
              " (4, 'Simone Biles', 'Gymnastics', 'USA', 7),\n",
              " (5, 'Usain Bolt', 'Track & Field', 'Jamaica', 8),\n",
              " (6, 'Wilma Rudolph', 'Track & Field', 'USA', 3),\n",
              " (7, 'Muhammad Ali', 'Boxing', 'USA', 1),\n",
              " (8, 'Naomi Osaka', 'Tennis', 'Japan', 0),\n",
              " (9, 'Pelé', 'Soccer', 'Brazil', 0),\n",
              " (10, 'Allyson Felix', 'Track & Field', 'USA', 11),\n",
              " (11, 'Jackie Robinson', 'Baseball', 'USA', 0),\n",
              " (12, 'Serena Williams', 'Tennis', 'USA', 4),\n",
              " (13, 'LeBron James', 'Basketball', 'USA', 2),\n",
              " (14, 'Simone Biles', 'Gymnastics', 'USA', 7),\n",
              " (15, 'Usain Bolt', 'Track & Field', 'Jamaica', 8),\n",
              " (16, 'Wilma Rudolph', 'Track & Field', 'USA', 3),\n",
              " (17, 'Muhammad Ali', 'Boxing', 'USA', 1),\n",
              " (18, 'Naomi Osaka', 'Tennis', 'Japan', 0),\n",
              " (19, 'Pelé', 'Soccer', 'Brazil', 0),\n",
              " (20, 'Allyson Felix', 'Track & Field', 'USA', 11),\n",
              " (21, 'Jackie Robinson', 'Baseball', 'USA', 0),\n",
              " (22, 'Serena Williams', 'Tennis', 'USA', 4),\n",
              " (23, 'LeBron James', 'Basketball', 'USA', 2),\n",
              " (24, 'Simone Biles', 'Gymnastics', 'USA', 7),\n",
              " (25, 'Usain Bolt', 'Track & Field', 'Jamaica', 8),\n",
              " (26, 'Wilma Rudolph', 'Track & Field', 'USA', 3),\n",
              " (27, 'Muhammad Ali', 'Boxing', 'USA', 1),\n",
              " (28, 'Naomi Osaka', 'Tennis', 'Japan', 0),\n",
              " (29, 'Pelé', 'Soccer', 'Brazil', 0),\n",
              " (30, 'Allyson Felix', 'Track & Field', 'USA', 11),\n",
              " (31, 'Jackie Robinson', 'Baseball', 'USA', 0)]"
            ]
          },
          "metadata": {},
          "execution_count": 28
        }
      ]
    },
    {
      "cell_type": "code",
      "source": [
        "cur.execute('''\n",
        "\n",
        "SELECT DISTINCT name, sport, country, olympic_medals\n",
        "FROM BlackAthletes;''')\n",
        "\n",
        "cur.fetchall()\n"
      ],
      "metadata": {
        "colab": {
          "base_uri": "https://localhost:8080/"
        },
        "id": "LvJUdGEZj8ay",
        "outputId": "0e7563af-cd88-40ae-cc8c-e01862837940"
      },
      "id": "LvJUdGEZj8ay",
      "execution_count": 31,
      "outputs": [
        {
          "output_type": "execute_result",
          "data": {
            "text/plain": [
              "[('Michael Jordan', 'Basketball', 'USA', 2),\n",
              " ('Serena Williams', 'Tennis', 'USA', 4),\n",
              " ('LeBron James', 'Basketball', 'USA', 2),\n",
              " ('Simone Biles', 'Gymnastics', 'USA', 7),\n",
              " ('Usain Bolt', 'Track & Field', 'Jamaica', 8),\n",
              " ('Wilma Rudolph', 'Track & Field', 'USA', 3),\n",
              " ('Muhammad Ali', 'Boxing', 'USA', 1),\n",
              " ('Naomi Osaka', 'Tennis', 'Japan', 0),\n",
              " ('Pelé', 'Soccer', 'Brazil', 0),\n",
              " ('Allyson Felix', 'Track & Field', 'USA', 11),\n",
              " ('Jackie Robinson', 'Baseball', 'USA', 0)]"
            ]
          },
          "metadata": {},
          "execution_count": 31
        }
      ]
    },
    {
      "cell_type": "code",
      "source": [
        "cur.execute('''\n",
        "    DELETE FROM BlackAthletes\n",
        "    WHERE olympic_medals = 0\n",
        "''')\n",
        "\n",
        "cur.execute('''\n",
        "SELECT *\n",
        "FROM BlackAthletes;\n",
        "''')\n",
        "\n",
        "\n",
        "cur.fetchall()"
      ],
      "metadata": {
        "colab": {
          "base_uri": "https://localhost:8080/"
        },
        "id": "WFnSn-jckzhN",
        "outputId": "6a7f5c55-6bca-49a8-b87b-8274cc2c3730"
      },
      "id": "WFnSn-jckzhN",
      "execution_count": 35,
      "outputs": [
        {
          "output_type": "execute_result",
          "data": {
            "text/plain": [
              "[(1, 'Michael Jordan', 'Basketball', 'USA', 2),\n",
              " (2, 'Serena Williams', 'Tennis', 'USA', 4),\n",
              " (3, 'LeBron James', 'Basketball', 'USA', 2),\n",
              " (4, 'Simone Biles', 'Gymnastics', 'USA', 7),\n",
              " (5, 'Usain Bolt', 'Track & Field', 'Jamaica', 8),\n",
              " (6, 'Wilma Rudolph', 'Track & Field', 'USA', 3),\n",
              " (7, 'Muhammad Ali', 'Boxing', 'USA', 1),\n",
              " (10, 'Allyson Felix', 'Track & Field', 'USA', 11),\n",
              " (12, 'Serena Williams', 'Tennis', 'USA', 4),\n",
              " (13, 'LeBron James', 'Basketball', 'USA', 2),\n",
              " (14, 'Simone Biles', 'Gymnastics', 'USA', 7),\n",
              " (15, 'Usain Bolt', 'Track & Field', 'Jamaica', 8),\n",
              " (16, 'Wilma Rudolph', 'Track & Field', 'USA', 3),\n",
              " (17, 'Muhammad Ali', 'Boxing', 'USA', 1),\n",
              " (20, 'Allyson Felix', 'Track & Field', 'USA', 11),\n",
              " (22, 'Serena Williams', 'Tennis', 'USA', 4),\n",
              " (23, 'LeBron James', 'Basketball', 'USA', 2),\n",
              " (24, 'Simone Biles', 'Gymnastics', 'USA', 7),\n",
              " (25, 'Usain Bolt', 'Track & Field', 'Jamaica', 8),\n",
              " (26, 'Wilma Rudolph', 'Track & Field', 'USA', 3),\n",
              " (27, 'Muhammad Ali', 'Boxing', 'USA', 1),\n",
              " (30, 'Allyson Felix', 'Track & Field', 'USA', 11)]"
            ]
          },
          "metadata": {},
          "execution_count": 35
        }
      ]
    },
    {
      "cell_type": "code",
      "source": [
        "cur.execute('''\n",
        "SELECT *\n",
        "    FROM BlackAthletes\n",
        "    WHERE sport = \"NULL\";\n",
        "''')\n",
        "\n",
        "cur.fetchall()"
      ],
      "metadata": {
        "colab": {
          "base_uri": "https://localhost:8080/"
        },
        "id": "TIah28kFVL5F",
        "outputId": "2e60ca2b-74dd-4037-bff6-34cbd50d1ec7"
      },
      "id": "TIah28kFVL5F",
      "execution_count": 32,
      "outputs": [
        {
          "output_type": "execute_result",
          "data": {
            "text/plain": [
              "[]"
            ]
          },
          "metadata": {},
          "execution_count": 32
        }
      ]
    },
    {
      "cell_type": "code",
      "source": [
        "cur.execute('''\n",
        "    SELECT * FROM BlackAthletes\n",
        "    WHERE country = 'USA' AND olympic_medals >= 5\n",
        "''')\n",
        "\n",
        "cur.fetchall()"
      ],
      "metadata": {
        "colab": {
          "base_uri": "https://localhost:8080/"
        },
        "id": "6iVhsDienya2",
        "outputId": "4641e0de-63bc-4671-9bf3-7c89ba4e819c"
      },
      "id": "6iVhsDienya2",
      "execution_count": 37,
      "outputs": [
        {
          "output_type": "execute_result",
          "data": {
            "text/plain": [
              "[(4, 'Simone Biles', 'Gymnastics', 'USA', 7),\n",
              " (10, 'Allyson Felix', 'Track & Field', 'USA', 11),\n",
              " (14, 'Simone Biles', 'Gymnastics', 'USA', 7),\n",
              " (20, 'Allyson Felix', 'Track & Field', 'USA', 11),\n",
              " (24, 'Simone Biles', 'Gymnastics', 'USA', 7),\n",
              " (30, 'Allyson Felix', 'Track & Field', 'USA', 11)]"
            ]
          },
          "metadata": {},
          "execution_count": 37
        }
      ]
    },
    {
      "cell_type": "code",
      "source": [
        "cur.execute('''\n",
        "SELECT *\n",
        "    FROM BlackAthletes\n",
        "    WHERE olympic_medals BETWEEN 2 AND 6;\n",
        "''')\n",
        "\n",
        "cur.fetchall()"
      ],
      "metadata": {
        "colab": {
          "base_uri": "https://localhost:8080/"
        },
        "id": "wI4oWq27jYMm",
        "outputId": "d96d0446-fb98-49f2-de5f-1588c3f7d239"
      },
      "id": "wI4oWq27jYMm",
      "execution_count": 29,
      "outputs": [
        {
          "output_type": "execute_result",
          "data": {
            "text/plain": [
              "[(1, 'Michael Jordan', 'Basketball', 'USA', 2),\n",
              " (2, 'Serena Williams', 'Tennis', 'USA', 4),\n",
              " (3, 'LeBron James', 'Basketball', 'USA', 2),\n",
              " (6, 'Wilma Rudolph', 'Track & Field', 'USA', 3),\n",
              " (12, 'Serena Williams', 'Tennis', 'USA', 4),\n",
              " (13, 'LeBron James', 'Basketball', 'USA', 2),\n",
              " (16, 'Wilma Rudolph', 'Track & Field', 'USA', 3),\n",
              " (22, 'Serena Williams', 'Tennis', 'USA', 4),\n",
              " (23, 'LeBron James', 'Basketball', 'USA', 2),\n",
              " (26, 'Wilma Rudolph', 'Track & Field', 'USA', 3)]"
            ]
          },
          "metadata": {},
          "execution_count": 29
        }
      ]
    }
  ],
  "metadata": {
    "kernelspec": {
      "display_name": "Python [conda env:base] *",
      "language": "python",
      "name": "conda-base-py"
    },
    "language_info": {
      "codemirror_mode": {
        "name": "ipython",
        "version": 3
      },
      "file_extension": ".py",
      "mimetype": "text/x-python",
      "name": "python",
      "nbconvert_exporter": "python",
      "pygments_lexer": "ipython3",
      "version": "3.10.16"
    },
    "colab": {
      "provenance": [],
      "include_colab_link": true
    }
  },
  "nbformat": 4,
  "nbformat_minor": 5
}