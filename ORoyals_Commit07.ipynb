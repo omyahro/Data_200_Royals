{
  "nbformat": 4,
  "nbformat_minor": 0,
  "metadata": {
    "colab": {
      "provenance": [],
      "authorship_tag": "ABX9TyPtKHaNzAX8rk4438i/o7Vw",
      "include_colab_link": true
    },
    "kernelspec": {
      "name": "python3",
      "display_name": "Python 3"
    },
    "language_info": {
      "name": "python"
    }
  },
  "cells": [
    {
      "cell_type": "markdown",
      "metadata": {
        "id": "view-in-github",
        "colab_type": "text"
      },
      "source": [
        "<a href=\"https://colab.research.google.com/github/omyahro/Data_200_Royals/blob/main/ORoyals_Commit07.ipynb\" target=\"_parent\"><img src=\"https://colab.research.google.com/assets/colab-badge.svg\" alt=\"Open In Colab\"/></a>"
      ]
    },
    {
      "cell_type": "code",
      "source": [
        "pip install sqlite-database"
      ],
      "metadata": {
        "colab": {
          "base_uri": "https://localhost:8080/"
        },
        "id": "PW_IO0Ka-xm-",
        "outputId": "039bacff-97a5-4f3f-89eb-ddeec0dea89f"
      },
      "execution_count": 31,
      "outputs": [
        {
          "output_type": "stream",
          "name": "stdout",
          "text": [
            "Requirement already satisfied: sqlite-database in /usr/local/lib/python3.11/dist-packages (0.7.2)\n"
          ]
        }
      ]
    },
    {
      "cell_type": "code",
      "source": [
        "# Import the libraries\n",
        "import sqlite3\n",
        "import csv\n",
        "import numpy as np\n",
        "import pandas as pd"
      ],
      "metadata": {
        "id": "2rzP2ZxT-t1E"
      },
      "execution_count": 32,
      "outputs": []
    },
    {
      "cell_type": "code",
      "source": [
        "# 1. Load dataset (uploaded file path)\n",
        "from google.colab import drive\n",
        "\n",
        "# Mount Google Drive\n",
        "drive.mount('/content/drive')\n",
        "\n",
        "# Define the file path\n",
        "file_path = \"/content/drive/My Drive/Food_Access_Research_Atlas.csv\"\n",
        "\n",
        "# Read the Excel file\n",
        "food_access = pd.read_csv(file_path)\n",
        "df = pd.read_csv(file_path)"
      ],
      "metadata": {
        "colab": {
          "base_uri": "https://localhost:8080/"
        },
        "id": "aUyva4bN-u_u",
        "outputId": "8c32b1ba-1ea3-4a78-8fac-4414656dbf9b"
      },
      "execution_count": 33,
      "outputs": [
        {
          "output_type": "stream",
          "name": "stdout",
          "text": [
            "Drive already mounted at /content/drive; to attempt to forcibly remount, call drive.mount(\"/content/drive\", force_remount=True).\n"
          ]
        }
      ]
    },
    {
      "cell_type": "code",
      "source": [
        "\n",
        "conn = sqlite3.connect('food_access.db')  # or use full path if needed\n",
        "cur = conn.cursor()\n"
      ],
      "metadata": {
        "id": "LKQ0N6gZRllc"
      },
      "execution_count": 34,
      "outputs": []
    },
    {
      "cell_type": "code",
      "source": [
        "conn = sqlite3.connect('/content/drive/My Drive/food_access.db')\n",
        "df.to_sql('food_access', conn, if_exists='replace', index=False)"
      ],
      "metadata": {
        "colab": {
          "base_uri": "https://localhost:8080/"
        },
        "id": "3ALdt6ps_Co4",
        "outputId": "c8d63438-68bf-476c-a30f-af6cf10995f6"
      },
      "execution_count": 35,
      "outputs": [
        {
          "output_type": "execute_result",
          "data": {
            "text/plain": [
              "72531"
            ]
          },
          "metadata": {},
          "execution_count": 35
        }
      ]
    },
    {
      "cell_type": "code",
      "source": [
        "# Create a cursor to interact with the database.\n",
        "cur.execute('DROP TABLE BlackAthletes')"
      ],
      "metadata": {
        "colab": {
          "base_uri": "https://localhost:8080/"
        },
        "id": "RZs_jASyaJaS",
        "outputId": "35263ebc-2d8d-490a-cbd5-b1da6d337680"
      },
      "execution_count": 48,
      "outputs": [
        {
          "output_type": "execute_result",
          "data": {
            "text/plain": [
              "<sqlite3.Cursor at 0x7f7cf98ec240>"
            ]
          },
          "metadata": {},
          "execution_count": 48
        }
      ]
    },
    {
      "cell_type": "code",
      "source": [
        "# Create a new table\n",
        "cur.execute('''\n",
        "    CREATE TABLE IF NOT EXISTS BlackAthletes (\n",
        "        id INTEGER PRIMARY KEY AUTOINCREMENT,\n",
        "        name TEXT,\n",
        "        sport TEXT,\n",
        "        country TEXT,\n",
        "        olympic_medals INTEGER\n",
        "    )\n",
        "''')\n",
        "\n",
        "conn.commit()"
      ],
      "metadata": {
        "id": "_awM0MYLTTfs"
      },
      "execution_count": 61,
      "outputs": []
    },
    {
      "cell_type": "code",
      "source": [
        "cur.execute('''\n",
        "    INSERT INTO BlackAthletes (name, sport, country, olympic_medals)\n",
        "    VALUES ('Michael Jordan', 'Basketball', 'USA', 2)\n",
        "''')\n",
        "conn.commit()"
      ],
      "metadata": {
        "id": "Xeq_wxQzXpxd"
      },
      "execution_count": 50,
      "outputs": []
    },
    {
      "cell_type": "code",
      "source": [
        "cur.execute('''\n",
        "    INSERT INTO BlackAthletes (name, sport, country, olympic_medals)\n",
        "    VALUES ('Michael Jordan', 'Basketball', 'USA', 2)\n",
        "''')\n",
        "conn.commit()"
      ],
      "metadata": {
        "id": "QYlbL5etaOAq"
      },
      "execution_count": 51,
      "outputs": []
    },
    {
      "cell_type": "code",
      "source": [
        "data = [\n",
        "    (\"Serena Williams\", \"Tennis\", \"USA\", 4),\n",
        "    (\"LeBron James\", \"Basketball\", \"USA\", 2),\n",
        "    (\"Simone Biles\", \"Gymnastics\", \"USA\", 7),\n",
        "    (\"Usain Bolt\", \"Track & Field\", \"Jamaica\", 8),\n",
        "    (\"Wilma Rudolph\", \"Track & Field\", \"USA\", 3),\n",
        "    (\"Muhammad Ali\", \"Boxing\", \"USA\", 1),\n",
        "    (\"Naomi Osaka\", \"Tennis\", \"Japan\", 0),\n",
        "    (\"Pelé\", \"Soccer\", \"Brazil\", 0),  # World Cups, not Olympics\n",
        "    (\"Allyson Felix\", \"Track & Field\", \"USA\", 11),\n",
        "    (\"Jackie Robinson\", \"Baseball\", \"USA\", 0)\n",
        "]\n",
        "\n",
        "# Insert data into the table\n",
        "cur.executemany('''\n",
        "    INSERT INTO BlackAthletes (name, sport, country, olympic_medals)\n",
        "    VALUES (?, ?, ?, ?)\n",
        "''', data)\n",
        "\n",
        "conn.commit()"
      ],
      "metadata": {
        "id": "KI5Cq5BrTjtW"
      },
      "execution_count": 52,
      "outputs": []
    },
    {
      "cell_type": "code",
      "source": [
        "cur.execute('''\n",
        "SELECT *\n",
        "FROM BlackAthletes;''')\n",
        "\n",
        "cur.fetchall()"
      ],
      "metadata": {
        "colab": {
          "base_uri": "https://localhost:8080/"
        },
        "id": "QNW6-ZEVT0xq",
        "outputId": "655073ca-a19c-419b-82de-786712616c4d"
      },
      "execution_count": 54,
      "outputs": [
        {
          "output_type": "execute_result",
          "data": {
            "text/plain": [
              "[(1, 'Michael Jordan', 'Basketball', 'USA', 2),\n",
              " (2, 'Michael Jordan', 'Basketball', 'USA', 2),\n",
              " (3, 'Serena Williams', 'Tennis', 'USA', 4),\n",
              " (4, 'LeBron James', 'Basketball', 'USA', 2),\n",
              " (5, 'Simone Biles', 'Gymnastics', 'USA', 7),\n",
              " (6, 'Usain Bolt', 'Track & Field', 'Jamaica', 8),\n",
              " (7, 'Wilma Rudolph', 'Track & Field', 'USA', 3),\n",
              " (8, 'Muhammad Ali', 'Boxing', 'USA', 1),\n",
              " (9, 'Naomi Osaka', 'Tennis', 'Japan', 0),\n",
              " (10, 'Pelé', 'Soccer', 'Brazil', 0),\n",
              " (11, 'Allyson Felix', 'Track & Field', 'USA', 11),\n",
              " (12, 'Jackie Robinson', 'Baseball', 'USA', 0)]"
            ]
          },
          "metadata": {},
          "execution_count": 54
        }
      ]
    },
    {
      "cell_type": "code",
      "source": [
        "cur.execute('''\n",
        "\n",
        "SELECT DISTINCT name, sport, country, olympic_medals\n",
        "FROM BlackAthletes;''')\n",
        "\n",
        "cur.fetchall()\n"
      ],
      "metadata": {
        "colab": {
          "base_uri": "https://localhost:8080/"
        },
        "id": "LvJUdGEZj8ay",
        "outputId": "5c51d531-c7f9-4208-f61e-55a9e80eb9cc"
      },
      "execution_count": 55,
      "outputs": [
        {
          "output_type": "execute_result",
          "data": {
            "text/plain": [
              "[('Michael Jordan', 'Basketball', 'USA', 2),\n",
              " ('Serena Williams', 'Tennis', 'USA', 4),\n",
              " ('LeBron James', 'Basketball', 'USA', 2),\n",
              " ('Simone Biles', 'Gymnastics', 'USA', 7),\n",
              " ('Usain Bolt', 'Track & Field', 'Jamaica', 8),\n",
              " ('Wilma Rudolph', 'Track & Field', 'USA', 3),\n",
              " ('Muhammad Ali', 'Boxing', 'USA', 1),\n",
              " ('Naomi Osaka', 'Tennis', 'Japan', 0),\n",
              " ('Pelé', 'Soccer', 'Brazil', 0),\n",
              " ('Allyson Felix', 'Track & Field', 'USA', 11),\n",
              " ('Jackie Robinson', 'Baseball', 'USA', 0)]"
            ]
          },
          "metadata": {},
          "execution_count": 55
        }
      ]
    },
    {
      "cell_type": "code",
      "source": [
        "cur.execute('''\n",
        "    DELETE FROM BlackAthletes\n",
        "    WHERE olympic_medals = 0\n",
        "''')\n",
        "\n",
        "cur.execute('''\n",
        "SELECT *\n",
        "FROM BlackAthletes;\n",
        "''')\n",
        "\n",
        "\n",
        "cur.fetchall()"
      ],
      "metadata": {
        "colab": {
          "base_uri": "https://localhost:8080/"
        },
        "id": "J_sVNF2Fa_1x",
        "outputId": "5261d734-98cb-4ff7-a1ca-0bcf4eb58a15"
      },
      "execution_count": 56,
      "outputs": [
        {
          "output_type": "execute_result",
          "data": {
            "text/plain": [
              "[(1, 'Michael Jordan', 'Basketball', 'USA', 2),\n",
              " (2, 'Michael Jordan', 'Basketball', 'USA', 2),\n",
              " (3, 'Serena Williams', 'Tennis', 'USA', 4),\n",
              " (4, 'LeBron James', 'Basketball', 'USA', 2),\n",
              " (5, 'Simone Biles', 'Gymnastics', 'USA', 7),\n",
              " (6, 'Usain Bolt', 'Track & Field', 'Jamaica', 8),\n",
              " (7, 'Wilma Rudolph', 'Track & Field', 'USA', 3),\n",
              " (8, 'Muhammad Ali', 'Boxing', 'USA', 1),\n",
              " (11, 'Allyson Felix', 'Track & Field', 'USA', 11)]"
            ]
          },
          "metadata": {},
          "execution_count": 56
        }
      ]
    },
    {
      "cell_type": "code",
      "source": [
        "cur.execute('''\n",
        "SELECT *\n",
        "    FROM BlackAthletes\n",
        "    WHERE sport = \"NULL\";\n",
        "''')\n",
        "\n",
        "cur.fetchall()"
      ],
      "metadata": {
        "colab": {
          "base_uri": "https://localhost:8080/"
        },
        "id": "SsgXOMLWbAN-",
        "outputId": "1d0ed2e8-b45d-4793-fccd-e474b2ced5dc"
      },
      "execution_count": 57,
      "outputs": [
        {
          "output_type": "execute_result",
          "data": {
            "text/plain": [
              "[]"
            ]
          },
          "metadata": {},
          "execution_count": 57
        }
      ]
    },
    {
      "cell_type": "code",
      "source": [
        "cur.execute('''\n",
        "    SELECT * FROM BlackAthletes\n",
        "    WHERE country = 'USA' AND olympic_medals >= 5\n",
        "''')\n",
        "\n",
        "cur.fetchall()"
      ],
      "metadata": {
        "colab": {
          "base_uri": "https://localhost:8080/"
        },
        "id": "Jc98xuNFbAn9",
        "outputId": "e7cbba21-f666-4b1b-cc44-528d579aea0e"
      },
      "execution_count": 58,
      "outputs": [
        {
          "output_type": "execute_result",
          "data": {
            "text/plain": [
              "[(5, 'Simone Biles', 'Gymnastics', 'USA', 7),\n",
              " (11, 'Allyson Felix', 'Track & Field', 'USA', 11)]"
            ]
          },
          "metadata": {},
          "execution_count": 58
        }
      ]
    },
    {
      "cell_type": "code",
      "source": [
        "cur.execute('''\n",
        "SELECT *\n",
        "    FROM BlackAthletes\n",
        "    WHERE olympic_medals BETWEEN 2 AND 6;\n",
        "''')\n",
        "\n",
        "cur.fetchall()"
      ],
      "metadata": {
        "colab": {
          "base_uri": "https://localhost:8080/"
        },
        "id": "RoCSIPmmbGVb",
        "outputId": "38f0b2ab-765e-4dfb-a820-5b99f1808c5e"
      },
      "execution_count": 59,
      "outputs": [
        {
          "output_type": "execute_result",
          "data": {
            "text/plain": [
              "[(1, 'Michael Jordan', 'Basketball', 'USA', 2),\n",
              " (2, 'Michael Jordan', 'Basketball', 'USA', 2),\n",
              " (3, 'Serena Williams', 'Tennis', 'USA', 4),\n",
              " (4, 'LeBron James', 'Basketball', 'USA', 2),\n",
              " (7, 'Wilma Rudolph', 'Track & Field', 'USA', 3)]"
            ]
          },
          "metadata": {},
          "execution_count": 59
        }
      ]
    },
    {
      "cell_type": "code",
      "source": [
        "import matplotlib.pyplot as plt\n",
        "\n",
        "cur.execute(\"SELECT name, olympic_medals FROM BlackAthletes\")\n",
        "data = cur.fetchall()\n",
        "\n",
        "names = [row[0] for row in data]\n",
        "medals = [row[1] for row in data]\n",
        "\n",
        "plt.figure(figsize=(10, 6))\n",
        "plt.bar(names, medals, color='gold')\n",
        "plt.title('Olympic Medals Won by Black Athletes')\n",
        "plt.xlabel('Athlete')\n",
        "plt.ylabel('Olympic Medals')\n",
        "plt.xticks(rotation=45)\n",
        "plt.tight_layout()\n",
        "plt.show()"
      ],
      "metadata": {
        "colab": {
          "base_uri": "https://localhost:8080/",
          "height": 607
        },
        "id": "wuZ_XoW3dovv",
        "outputId": "7631c548-a86b-4ae6-b2e1-1aeea184f34a"
      },
      "execution_count": 64,
      "outputs": [
        {
          "output_type": "display_data",
          "data": {
            "text/plain": [
              "<Figure size 1000x600 with 1 Axes>"
            ],
            "image/png": "[encoded data removed]"
          },
          "metadata": {}
        }
      ]
    }
  ]
}