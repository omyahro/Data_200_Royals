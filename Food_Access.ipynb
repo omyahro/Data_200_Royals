{
  "nbformat": 4,
  "nbformat_minor": 0,
  "metadata": {
    "colab": {
      "provenance": [],
      "toc_visible": true
    },
    "kernelspec": {
      "name": "python3",
      "display_name": "Python 3"
    },
    "language_info": {
      "name": "python"
    }
  },
  "cells": [
    {
      "cell_type": "markdown",
      "source": [
        "# **Research Question:**\n",
        "\n",
        "Do low-income, predominantly Black communities experience greater food access barriers than other racial groups?"
      ],
      "metadata": {
        "id": "MxOIcc8g1kai"
      }
    },
    {
      "cell_type": "markdown",
      "source": [
        "# **Problem Statement:**\n",
        "\n",
        "Low-income, predominantly Black communities often face greater barriers to accessing affordable and nutritious food. Many of these areas are classified as food deserts, where grocery stores are scarce, and fresh food options are limited. As a result, residents may rely on convenience stores or fast food, contributing to higher rates of food insecurity and diet-related health issues.\n",
        "\n"
      ],
      "metadata": {
        "id": "1JYWd73yxjov"
      }
    },
    {
      "cell_type": "markdown",
      "source": [
        "# **Data Definition:**\n",
        "\n",
        "https://catalog.data.gov/dataset/food-access-research-atlas
The Food Access Research Atlas maps food availability in low-income and other areas based on supermarket access. It provides census-tract-level data for research and community planning."
      ],
      "metadata": {
        "id": "mLNkNZek1b6Y"
      }
    },
    {
      "cell_type": "code",
      "execution_count": 12,
      "metadata": {
        "id": "cqO5hiAo_VBo"
      },
      "outputs": [],
      "source": [
        "# Import the libraries\n",
        "import numpy as np                  # Scientific Computing\n",
        "import pandas as pd                 # Data Analysis\n",
        "import matplotlib.pyplot as plt     # Plotting\n",
        "import seaborn as sns               # Statistical Data Visualization\n",
        "\n",
        "# Let's make sure pandas returns all the rows and columns for the dataframe\n",
        "pd.set_option('display.max_rows', None)\n",
        "pd.set_option('display.max_columns', None)\n",
        "\n",
        "# Force pandas to display full numbers instead of scientific notation\n",
        "# pd.options.display.float_format = '{:.0f}'.format\n",
        "\n",
        "# Library to suppress warnings\n",
        "import warnings\n",
        "warnings.filterwarnings('ignore')"
      ]
    },
    {
      "cell_type": "code",
      "source": [
        "from google.colab import drive\n",
        "\n",
        "# Mount Google Drive\n",
        "drive.mount('/content/drive')\n",
        "\n",
        "# Define the file path (adjust to your folder location)\n",
        "file_path = \"/content/drive/My Drive/FoodAccessResearchAtlasData2019.xlsx\"\n",
        "\n",
        "# Read the Excel file\n",
        "food_access = pd.read_excel(file_path)"
      ],
      "metadata": {
        "colab": {
          "base_uri": "https://localhost:8080/"
        },
        "id": "Y_X8n1fB_zzx",
        "outputId": "5f59b121-6028-476e-97c2-f0c31977c04f"
      },
      "execution_count": 13,
      "outputs": [
        {
          "output_type": "stream",
          "name": "stdout",
          "text": [
            "Drive already mounted at /content/drive; to attempt to forcibly remount, call drive.mount(\"/content/drive\", force_remount=True).\n"
          ]
        }
      ]
    }
  ]
}
