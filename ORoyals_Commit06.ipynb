{
  "cells": [
    {
      "cell_type": "markdown",
      "metadata": {
        "id": "view-in-github",
        "colab_type": "text"
      },
      "source": [
        "<a href=\"https://colab.research.google.com/github/omyahro/Data_200_Royals/blob/main/ORoyals_Commit06.ipynb\" target=\"_parent\"><img src=\"https://colab.research.google.com/assets/colab-badge.svg\" alt=\"Open In Colab\"/></a>"
      ]
    },
    {
      "cell_type": "code",
      "execution_count": null,
      "id": "e48d1de8-633d-4e9e-b414-5c04668f6a51",
      "metadata": {
        "colab": {
          "base_uri": "https://localhost:8080/"
        },
        "id": "e48d1de8-633d-4e9e-b414-5c04668f6a51",
        "outputId": "dacbd6aa-bc2e-4e56-a0f1-795ed4f9d9e3"
      },
      "outputs": [
        {
          "output_type": "stream",
          "name": "stdout",
          "text": [
            "Requirement already satisfied: sqlite-database in /usr/local/lib/python3.11/dist-packages (0.7.2)\n"
          ]
        }
      ],
      "source": [
        "pip install sqlite-database"
      ]
    },
    {
      "cell_type": "code",
      "execution_count": null,
      "id": "65483680-3e84-416d-b517-dab63e8d5546",
      "metadata": {
        "id": "65483680-3e84-416d-b517-dab63e8d5546"
      },
      "outputs": [],
      "source": [
        "# Import the libraries\n",
        "import sqlite3\n",
        "import csv\n",
        "import numpy as np\n",
        "import pandas as pd"
      ]
    },
    {
      "cell_type": "code",
      "execution_count": null,
      "id": "ba8b0183-94e4-4d5d-b36a-cd747804bbe3",
      "metadata": {
        "id": "ba8b0183-94e4-4d5d-b36a-cd747804bbe3"
      },
      "outputs": [],
      "source": [
        "# Create a connection\n",
        "# Syntax: conn = sqlite3.connect('databaseName.sqlite')\n",
        "conn = sqlite3.connect('energyindicators.sqlite')\n",
        "\n",
        "# Create a cursor object to navigate\n",
        "cur = conn.cursor()"
      ]
    },
    {
      "cell_type": "markdown",
      "id": "9da9046b-4d36-4b3a-a73d-6bb07cc2a864",
      "metadata": {
        "id": "9da9046b-4d36-4b3a-a73d-6bb07cc2a864"
      },
      "source": [
        "# SQL Basics"
      ]
    },
    {
      "cell_type": "code",
      "execution_count": null,
      "id": "c077c060-8367-4ef4-9986-73534157c57b",
      "metadata": {
        "colab": {
          "base_uri": "https://localhost:8080/"
        },
        "id": "c077c060-8367-4ef4-9986-73534157c57b",
        "outputId": "1f65c5f6-c933-4e5d-a527-8f8ac2c79374"
      },
      "outputs": [
        {
          "output_type": "execute_result",
          "data": {
            "text/plain": [
              "<sqlite3.Cursor at 0x791a1958c9c0>"
            ]
          },
          "metadata": {},
          "execution_count": 19
        }
      ],
      "source": [
        "# Create a cursor to interact with the database.\n",
        "cur.execute('DROP TABLE BlackAthletes')"
      ]
    },
    {
      "cell_type": "code",
      "execution_count": null,
      "id": "229fbb05-1a1f-4119-8b22-444f5bb1023a",
      "metadata": {
        "id": "229fbb05-1a1f-4119-8b22-444f5bb1023a"
      },
      "outputs": [],
      "source": [
        "# Create a new table named students\n",
        "# Table fields will be name, graduation year, and school\n",
        "cur.execute('''\n",
        "    CREATE TABLE BlackAthletes (\n",
        "        id INTEGER PRIMARY KEY AUTOINCREMENT,\n",
        "        name TEXT,\n",
        "        sport TEXT,\n",
        "        country TEXT,\n",
        "        olympic_medals INTEGER\n",
        "    )\n",
        "''')\n",
        "\n",
        "conn.commit()\n"
      ]
    },
    {
      "cell_type": "code",
      "execution_count": null,
      "id": "aeac699e-7de0-435a-aba8-1eadccfba2eb",
      "metadata": {
        "id": "aeac699e-7de0-435a-aba8-1eadccfba2eb"
      },
      "outputs": [],
      "source": [
        "# Let's insert a record into the table\n",
        "cur.execute('''\n",
        "    INSERT INTO BlackAthletes (name, sport, country, olympic_medals)\n",
        "    VALUES ('Michael Jordan', 'Basketball', 'USA', 2)\n",
        "''')\n",
        "conn.commit()"
      ]
    },
    {
      "cell_type": "code",
      "execution_count": null,
      "id": "75daeb2e-0fac-458b-b4f3-84f2aae63daa",
      "metadata": {
        "id": "75daeb2e-0fac-458b-b4f3-84f2aae63daa"
      },
      "outputs": [],
      "source": [
        "# Let's import more than one data into the table\n",
        "# Start with a list for the data\n",
        "data = [\n",
        "    (\"Serena Williams\", \"Tennis\", \"USA\", 4),\n",
        "    (\"LeBron James\", \"Basketball\", \"USA\", 2),\n",
        "    (\"Simone Biles\", \"Gymnastics\", \"USA\", 7),\n",
        "    (\"Usain Bolt\", \"Track & Field\", \"Jamaica\", 8),\n",
        "    (\"Wilma Rudolph\", \"Track & Field\", \"USA\", 3),\n",
        "    (\"Muhammad Ali\", \"Boxing\", \"USA\", 1),\n",
        "    (\"Naomi Osaka\", \"Tennis\", \"Japan\", 0),\n",
        "    (\"Pelé\", \"Soccer\", \"Brazil\", 0),  # World Cups, not Olympics\n",
        "    (\"Allyson Felix\", \"Track & Field\", \"USA\", 11),\n",
        "    (\"Jackie Robinson\", \"Baseball\", \"USA\", 0)\n",
        "]\n",
        "\n",
        "# Insert data into the table\n",
        "cur.executemany('''\n",
        "    INSERT INTO BlackAthletes (name, sport, country, olympic_medals)\n",
        "    VALUES (?, ?, ?, ?)\n",
        "''', data)\n",
        "\n",
        "conn.commit()"
      ]
    }
  ],
  "metadata": {
    "kernelspec": {
      "display_name": "Python [conda env:base] *",
      "language": "python",
      "name": "conda-base-py"
    },
    "language_info": {
      "codemirror_mode": {
        "name": "ipython",
        "version": 3
      },
      "file_extension": ".py",
      "mimetype": "text/x-python",
      "name": "python",
      "nbconvert_exporter": "python",
      "pygments_lexer": "ipython3",
      "version": "3.10.16"
    },
    "colab": {
      "provenance": [],
      "include_colab_link": true
    }
  },
  "nbformat": 4,
  "nbformat_minor": 5
}